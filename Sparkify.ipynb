{
 "cells": [
  {
   "cell_type": "markdown",
   "metadata": {},
   "source": [
    "# Sparkify Project Workspace\n",
    "This workspace contains a tiny subset (128MB) of the full dataset available (12GB). Feel free to use this workspace to build your project, or to explore a smaller subset with Spark before deploying your cluster on the cloud. Instructions for setting up your Spark cluster is included in the last lesson of the Extracurricular Spark Course content.\n",
    "\n",
    "You can follow the steps below to guide your data analysis and model building portion of this project."
   ]
  },
  {
   "cell_type": "code",
   "execution_count": 1,
   "metadata": {},
   "outputs": [],
   "source": [
    "# import libraries\n",
    "from pyspark.sql import SparkSession\n",
    "from pyspark.sql.functions import udf, desc, asc, when, datediff\n",
    "from pyspark.sql.types import StringType , IntegerType\n",
    "from pyspark.sql.functions import sum as Fsum\n",
    "from pyspark.sql.functions import col, split, countDistinct\n",
    "from pyspark.sql.functions import from_unixtime\n",
    "from pyspark.sql.functions import *\n",
    "from pyspark.sql import functions as F\n",
    "from pyspark.sql import Window\n",
    "import datetime\n",
    "import numpy as np\n",
    "import pandas as pd\n",
    "%matplotlib inline\n",
    "import matplotlib.pyplot as plt\n",
    "import seaborn as sns\n",
    "\n",
    "from pyspark.ml import Pipeline\n",
    "from pyspark.ml.classification import LogisticRegression, GBTClassifier, NaiveBayes, RandomForestClassifier\n",
    "from pyspark.ml.evaluation import MulticlassClassificationEvaluator\n",
    "from pyspark.ml.evaluation import BinaryClassificationEvaluator\n",
    "from pyspark.mllib.evaluation import BinaryClassificationMetrics, MulticlassMetrics\n",
    "from pyspark.ml.feature import StringIndexer, VectorAssembler, Normalizer, StandardScaler, MinMaxScaler, IndexToString\n",
    "from pyspark.ml.feature import OneHotEncoder, StringIndexer\n",
    "from pyspark.ml.regression import LinearRegression\n",
    "from pyspark.ml.tuning import CrossValidator, CrossValidatorModel, ParamGridBuilder\n",
    "from pyspark.sql.types import *\n",
    "from pyspark.sql.types import FloatType"
   ]
  },
  {
   "cell_type": "code",
   "execution_count": 2,
   "metadata": {},
   "outputs": [],
   "source": [
    "spark = SparkSession.builder.appName(\"try\").getOrCreate()"
   ]
  },
  {
   "cell_type": "code",
   "execution_count": 3,
   "metadata": {},
   "outputs": [
    {
     "data": {
      "text/html": [
       "\n",
       "            <div>\n",
       "                <p><b>SparkSession - in-memory</b></p>\n",
       "                \n",
       "        <div>\n",
       "            <p><b>SparkContext</b></p>\n",
       "\n",
       "            <p><a href=\"http://b52b35ccbdd9de6086ae4057c9035f258c55f508-697bf8c5b9-fwlww:4040\">Spark UI</a></p>\n",
       "\n",
       "            <dl>\n",
       "              <dt>Version</dt>\n",
       "                <dd><code>v2.4.3</code></dd>\n",
       "              <dt>Master</dt>\n",
       "                <dd><code>local[*]</code></dd>\n",
       "              <dt>AppName</dt>\n",
       "                <dd><code>try</code></dd>\n",
       "            </dl>\n",
       "        </div>\n",
       "        \n",
       "            </div>\n",
       "        "
      ],
      "text/plain": [
       "<pyspark.sql.session.SparkSession at 0x7fb30e34bb38>"
      ]
     },
     "execution_count": 3,
     "metadata": {},
     "output_type": "execute_result"
    }
   ],
   "source": [
    "spark"
   ]
  },
  {
   "cell_type": "code",
   "execution_count": 4,
   "metadata": {},
   "outputs": [
    {
     "data": {
      "text/plain": [
       "[('spark.app.name', 'try'),\n",
       " ('spark.rdd.compress', 'True'),\n",
       " ('spark.serializer.objectStreamReset', '100'),\n",
       " ('spark.app.id', 'local-1688781020345'),\n",
       " ('spark.master', 'local[*]'),\n",
       " ('spark.executor.id', 'driver'),\n",
       " ('spark.submit.deployMode', 'client'),\n",
       " ('spark.driver.port', '19804'),\n",
       " ('spark.ui.showConsoleProgress', 'true'),\n",
       " ('spark.driver.host',\n",
       "  'b52b35ccbdd9de6086ae4057c9035f258c55f508-697bf8c5b9-fwlww')]"
      ]
     },
     "execution_count": 4,
     "metadata": {},
     "output_type": "execute_result"
    }
   ],
   "source": [
    "# create a Spark session\n",
    "spark.sparkContext.getConf().getAll()"
   ]
  },
  {
   "cell_type": "markdown",
   "metadata": {},
   "source": [
    "# Load and Clean Dataset\n",
    "In this workspace, the mini-dataset file is `mini_sparkify_event_data.json`. Load and clean the dataset, checking for invalid or missing data - for example, records without userids or sessionids. "
   ]
  },
  {
   "cell_type": "code",
   "execution_count": 5,
   "metadata": {},
   "outputs": [],
   "source": [
    "df = spark.read.json(\"mini_sparkify_event_data.json\")"
   ]
  },
  {
   "cell_type": "code",
   "execution_count": 6,
   "metadata": {},
   "outputs": [
    {
     "name": "stdout",
     "output_type": "stream",
     "text": [
      "root\n",
      " |-- artist: string (nullable = true)\n",
      " |-- auth: string (nullable = true)\n",
      " |-- firstName: string (nullable = true)\n",
      " |-- gender: string (nullable = true)\n",
      " |-- itemInSession: long (nullable = true)\n",
      " |-- lastName: string (nullable = true)\n",
      " |-- length: double (nullable = true)\n",
      " |-- level: string (nullable = true)\n",
      " |-- location: string (nullable = true)\n",
      " |-- method: string (nullable = true)\n",
      " |-- page: string (nullable = true)\n",
      " |-- registration: long (nullable = true)\n",
      " |-- sessionId: long (nullable = true)\n",
      " |-- song: string (nullable = true)\n",
      " |-- status: long (nullable = true)\n",
      " |-- ts: long (nullable = true)\n",
      " |-- userAgent: string (nullable = true)\n",
      " |-- userId: string (nullable = true)\n",
      "\n"
     ]
    }
   ],
   "source": [
    "df.printSchema()"
   ]
  },
  {
   "cell_type": "code",
   "execution_count": 7,
   "metadata": {},
   "outputs": [
    {
     "name": "stdout",
     "output_type": "stream",
     "text": [
      "Dastaset contains 286500 rows, 18 columns\n"
     ]
    }
   ],
   "source": [
    "print(\"Dastaset contains {} rows, {} columns\".format(df.count(), len(df.columns)))"
   ]
  },
  {
   "cell_type": "code",
   "execution_count": 8,
   "metadata": {},
   "outputs": [
    {
     "name": "stdout",
     "output_type": "stream",
     "text": [
      "+----------------+---------+---------+------+-------------+--------+---------+-----+--------------------+------+--------+-------------+---------+--------------------+------+-------------+--------------------+------+\n",
      "|          artist|     auth|firstName|gender|itemInSession|lastName|   length|level|            location|method|    page| registration|sessionId|                song|status|           ts|           userAgent|userId|\n",
      "+----------------+---------+---------+------+-------------+--------+---------+-----+--------------------+------+--------+-------------+---------+--------------------+------+-------------+--------------------+------+\n",
      "|  Martha Tilston|Logged In|    Colin|     M|           50| Freeman|277.89016| paid|     Bakersfield, CA|   PUT|NextSong|1538173362000|       29|           Rockpools|   200|1538352117000|Mozilla/5.0 (Wind...|    30|\n",
      "|Five Iron Frenzy|Logged In|    Micah|     M|           79|    Long|236.09424| free|Boston-Cambridge-...|   PUT|NextSong|1538331630000|        8|              Canada|   200|1538352180000|\"Mozilla/5.0 (Win...|     9|\n",
      "|    Adam Lambert|Logged In|    Colin|     M|           51| Freeman| 282.8273| paid|     Bakersfield, CA|   PUT|NextSong|1538173362000|       29|   Time For Miracles|   200|1538352394000|Mozilla/5.0 (Wind...|    30|\n",
      "|          Enigma|Logged In|    Micah|     M|           80|    Long|262.71302| free|Boston-Cambridge-...|   PUT|NextSong|1538331630000|        8|Knocking On Forbi...|   200|1538352416000|\"Mozilla/5.0 (Win...|     9|\n",
      "|       Daft Punk|Logged In|    Colin|     M|           52| Freeman|223.60771| paid|     Bakersfield, CA|   PUT|NextSong|1538173362000|       29|Harder Better Fas...|   200|1538352676000|Mozilla/5.0 (Wind...|    30|\n",
      "+----------------+---------+---------+------+-------------+--------+---------+-----+--------------------+------+--------+-------------+---------+--------------------+------+-------------+--------------------+------+\n",
      "only showing top 5 rows\n",
      "\n"
     ]
    }
   ],
   "source": [
    "df.show(5) # difference btw df.take() and df.show()"
   ]
  },
  {
   "cell_type": "code",
   "execution_count": 37,
   "metadata": {},
   "outputs": [
    {
     "data": {
      "text/plain": [
       "DataFrame[summary: string, artist: string, auth: string, firstName: string, gender: string, itemInSession: string, lastName: string, length: string, level: string, location: string, method: string, page: string, registration: string, sessionId: string, song: string, status: string, ts: string, userAgent: string, userId: string]"
      ]
     },
     "execution_count": 37,
     "metadata": {},
     "output_type": "execute_result"
    }
   ],
   "source": [
    "df.describe()"
   ]
  },
  {
   "cell_type": "code",
   "execution_count": 38,
   "metadata": {},
   "outputs": [
    {
     "name": "stdout",
     "output_type": "stream",
     "text": [
      "+-------+-----------------+----------+---------+------+------------------+--------+------------------+------+-----------------+------+-------+--------------------+-----------------+--------------------+------------------+--------------------+--------------------+------------------+\n",
      "|summary|           artist|      auth|firstName|gender|     itemInSession|lastName|            length| level|         location|method|   page|        registration|        sessionId|                song|            status|                  ts|           userAgent|            userId|\n",
      "+-------+-----------------+----------+---------+------+------------------+--------+------------------+------+-----------------+------+-------+--------------------+-----------------+--------------------+------------------+--------------------+--------------------+------------------+\n",
      "|  count|           228108|    286500|   278154|278154|            286500|  278154|            228108|286500|           278154|286500| 286500|              278154|           286500|              228108|            286500|              286500|              278154|            286500|\n",
      "|   mean|551.0852017937219|      null|     null|  null|114.41421291448516|    null|249.11718197783375|  null|             null|  null|   null|1.535358834085557...|1041.526554973822|            Infinity|210.05459685863875|1.540956889810471...|                null| 59682.02278593872|\n",
      "| stddev|1217.769307916138|      null|     null|  null|129.76726201141108|    null| 99.23517921058324|  null|             null|  null|   null| 3.291321616327434E9|726.7762634630799|                 NaN| 31.50507848842204| 1.507543960819624E9|                null|109091.94999910535|\n",
      "|    min|              !!!| Cancelled| Adelaida|     F|                 0|   Adams|           0.78322|  free|       Albany, OR|   GET|  About|       1521380675000|                1|\u001c",
      "ÃÂg ÃÂtti Gr...|               200|       1538352117000|\"Mozilla/5.0 (Mac...|                  |\n",
      "|    max|ÃÂlafur Arnalds|Logged Out|   Zyonna|     M|              1321|  Wright|        3024.66567|  paid|Winston-Salem, NC|   PUT|Upgrade|       1543247354000|             2474|ÃÂau hafa slopp...|               404|       1543799476000|Mozilla/5.0 (comp...|                99|\n",
      "+-------+-----------------+----------+---------+------+------------------+--------+------------------+------+-----------------+------+-------+--------------------+-----------------+--------------------+------------------+--------------------+--------------------+------------------+\n",
      "\n"
     ]
    }
   ],
   "source": [
    "# to get actual statistyic\n",
    "df.describe().show()"
   ]
  },
  {
   "cell_type": "markdown",
   "metadata": {},
   "source": [
    "# Exploratory Data Analysis\n",
    "When you're working with the full dataset, perform EDA by loading a small subset of the data and doing basic manipulations within Spark. In this workspace, you are already provided a small subset of data you can explore.\n",
    "\n",
    "### Define Churn\n",
    "\n",
    "Once you've done some preliminary analysis, create a column `Churn` to use as the label for your model. I suggest using the `Cancellation Confirmation` events to define your churn, which happen for both paid and free users. As a bonus task, you can also look into the `Downgrade` events.\n",
    "\n",
    "### Explore Data\n",
    "Once you've defined churn, perform some exploratory data analysis to observe the behavior for users who stayed vs users who churned. You can start by exploring aggregates on these two groups of users, observing how much of a specific action they experienced per a certain time unit or number of songs played."
   ]
  },
  {
   "cell_type": "markdown",
   "metadata": {},
   "source": [
    "### 2.1 Exploring Data Understanding each feature"
   ]
  },
  {
   "cell_type": "code",
   "execution_count": 39,
   "metadata": {},
   "outputs": [],
   "source": [
    "def summary_df(df):\n",
    "    '''\n",
    "    Input: Dataframe\n",
    "    Output: Gives basic summary like Number of Nulls, and description\n",
    "    '''\n",
    "    counts = df.count()\n",
    "    df_summary = pd.DataFrame(columns = ['Feature','#Nulls','%Nulls', \"description\"])\n",
    "    description=[\"artist name\",\"user's authentication\",\"user's first name\", \"gender f or m\",\"item count\",\"user last name\",\n",
    "                \"length of the song in seconds\",\"plan: free or paid\", \"user's location\",\"request method\",\"page : various options\",\n",
    "                 \"resgistration timestamp\",\"session id\",\"song name\",\"status\",\"timestamp of event\",\"user's browser\",\n",
    "                 \"user unique Id\"]\n",
    "    i=0\n",
    "    for column_name in df.columns:\n",
    "        null_count = df.where(col(column_name).isNull()).count()\n",
    "        df_summary.loc[i] = [column_name,null_count,(counts-null_count)/counts, description[i]]\n",
    "        i +=1\n",
    "    print(df_summary)  "
   ]
  },
  {
   "cell_type": "code",
   "execution_count": 40,
   "metadata": {},
   "outputs": [
    {
     "name": "stdout",
     "output_type": "stream",
     "text": [
      "          Feature #Nulls    %Nulls                    description\n",
      "0          artist  58392  0.796188                    artist name\n",
      "1            auth      0  1.000000          user's authentication\n",
      "2       firstName   8346  0.970869              user's first name\n",
      "3          gender   8346  0.970869                  gender f or m\n",
      "4   itemInSession      0  1.000000                     item count\n",
      "5        lastName   8346  0.970869                 user last name\n",
      "6          length  58392  0.796188  length of the song in seconds\n",
      "7           level      0  1.000000             plan: free or paid\n",
      "8        location   8346  0.970869                user's location\n",
      "9          method      0  1.000000                 request method\n",
      "10           page      0  1.000000         page : various options\n",
      "11   registration   8346  0.970869        resgistration timestamp\n",
      "12      sessionId      0  1.000000                     session id\n",
      "13           song  58392  0.796188                      song name\n",
      "14         status      0  1.000000                         status\n",
      "15             ts      0  1.000000             timestamp of event\n",
      "16      userAgent   8346  0.970869                 user's browser\n",
      "17         userId      0  1.000000                 user unique Id\n"
     ]
    }
   ],
   "source": [
    "summary_df(df)"
   ]
  },
  {
   "cell_type": "code",
   "execution_count": 41,
   "metadata": {},
   "outputs": [
    {
     "name": "stdout",
     "output_type": "stream",
     "text": [
      "+----------+\n",
      "|      auth|\n",
      "+----------+\n",
      "|Logged Out|\n",
      "| Cancelled|\n",
      "|     Guest|\n",
      "| Logged In|\n",
      "+----------+\n",
      "\n",
      "None\n"
     ]
    }
   ],
   "source": [
    "# What are the possible different authorizations\n",
    "print(df.select(\"auth\").dropDuplicates().show())"
   ]
  },
  {
   "cell_type": "code",
   "execution_count": 42,
   "metadata": {},
   "outputs": [
    {
     "name": "stdout",
     "output_type": "stream",
     "text": [
      "+------+------+\n",
      "|gender| count|\n",
      "+------+------+\n",
      "|     F|154578|\n",
      "|  null|  8346|\n",
      "|     M|123576|\n",
      "+------+------+\n",
      "\n"
     ]
    }
   ],
   "source": [
    "#Gender can be female or male - give counts\n",
    "df.select(\"gender\").groupby(\"gender\").count().show()\n",
    "#We see that lot of nulls are coming - we can see from above this matches number of missing values in first_name and last_name \n",
    "# maybe user_id is not defined properly let's explore"
   ]
  },
  {
   "cell_type": "code",
   "execution_count": 43,
   "metadata": {},
   "outputs": [
    {
     "name": "stdout",
     "output_type": "stream",
     "text": [
      "+------+\n",
      "|userId|\n",
      "+------+\n",
      "|      |\n",
      "|    10|\n",
      "|   100|\n",
      "|100001|\n",
      "|100002|\n",
      "|100003|\n",
      "|100004|\n",
      "|100005|\n",
      "|100006|\n",
      "|100007|\n",
      "|100008|\n",
      "|100009|\n",
      "|100010|\n",
      "|100011|\n",
      "|100012|\n",
      "|100013|\n",
      "|100014|\n",
      "|100015|\n",
      "|100016|\n",
      "|100017|\n",
      "+------+\n",
      "only showing top 20 rows\n",
      "\n"
     ]
    }
   ],
   "source": [
    "# on exploring we see empty in null\n",
    "df.select(\"userId\").dropDuplicates().sort(\"userId\").show()"
   ]
  },
  {
   "cell_type": "code",
   "execution_count": 44,
   "metadata": {},
   "outputs": [],
   "source": [
    "#we can see there are lot of empty userId \n",
    "# Possible reason is that these people are those who have not created an account yet and just exploring services as guest\n",
    "# For our analysis as they haven't joind yet lets remove these people \n",
    "df_clean = df.dropna(how = \"any\", subset = [\"userId\", \"sessionId\"])"
   ]
  },
  {
   "cell_type": "code",
   "execution_count": 45,
   "metadata": {},
   "outputs": [
    {
     "data": {
      "text/plain": [
       "0"
      ]
     },
     "execution_count": 45,
     "metadata": {},
     "output_type": "execute_result"
    }
   ],
   "source": [
    "# 8346 records gets removed\n",
    "df.count() - df_clean.count()\n",
    "# basically it means they are not nulls must have empty string lets remove those as well"
   ]
  },
  {
   "cell_type": "code",
   "execution_count": 46,
   "metadata": {},
   "outputs": [],
   "source": [
    "df_clean = df_clean.filter(df_clean[\"userId\"] != \"\")"
   ]
  },
  {
   "cell_type": "code",
   "execution_count": 47,
   "metadata": {},
   "outputs": [
    {
     "data": {
      "text/plain": [
       "8346"
      ]
     },
     "execution_count": 47,
     "metadata": {},
     "output_type": "execute_result"
    }
   ],
   "source": [
    "# the number of rows dropped is equal to 8346 which matches most of the missing nulls in our dataset\n",
    "df.count() - df_clean.count()"
   ]
  },
  {
   "cell_type": "code",
   "execution_count": 48,
   "metadata": {},
   "outputs": [
    {
     "name": "stdout",
     "output_type": "stream",
     "text": [
      "+------+\n",
      "|status|\n",
      "+------+\n",
      "|   307|\n",
      "|   404|\n",
      "|   200|\n",
      "+------+\n",
      "\n"
     ]
    }
   ],
   "source": [
    "# They are only 3 status 200, 307, 400 - Need to figuire out what they refer to\n",
    "df_clean.select(\"status\").dropDuplicates().show()"
   ]
  },
  {
   "cell_type": "code",
   "execution_count": 49,
   "metadata": {},
   "outputs": [
    {
     "name": "stdout",
     "output_type": "stream",
     "text": [
      "+-----+\n",
      "|level|\n",
      "+-----+\n",
      "| free|\n",
      "| paid|\n",
      "+-----+\n",
      "\n"
     ]
    }
   ],
   "source": [
    "df_clean.select(\"level\").dropDuplicates().show()"
   ]
  },
  {
   "cell_type": "code",
   "execution_count": 50,
   "metadata": {},
   "outputs": [
    {
     "name": "stdout",
     "output_type": "stream",
     "text": [
      "+--------------------+\n",
      "|            location|\n",
      "+--------------------+\n",
      "|     Gainesville, FL|\n",
      "|Atlantic City-Ham...|\n",
      "|Deltona-Daytona B...|\n",
      "|San Diego-Carlsba...|\n",
      "|Cleveland-Elyria, OH|\n",
      "|Kingsport-Bristol...|\n",
      "|New Haven-Milford...|\n",
      "|Birmingham-Hoover...|\n",
      "|  Corpus Christi, TX|\n",
      "|         Dubuque, IA|\n",
      "|Las Vegas-Henders...|\n",
      "|Indianapolis-Carm...|\n",
      "|Seattle-Tacoma-Be...|\n",
      "|          Albany, OR|\n",
      "|   Winston-Salem, NC|\n",
      "|     Bakersfield, CA|\n",
      "|Los Angeles-Long ...|\n",
      "|Minneapolis-St. P...|\n",
      "|San Francisco-Oak...|\n",
      "|Phoenix-Mesa-Scot...|\n",
      "+--------------------+\n",
      "only showing top 20 rows\n",
      "\n"
     ]
    }
   ],
   "source": [
    "# Can extract states from this to analyze\n",
    "df_clean.select(\"location\").dropDuplicates().show()"
   ]
  },
  {
   "cell_type": "code",
   "execution_count": 51,
   "metadata": {},
   "outputs": [
    {
     "name": "stdout",
     "output_type": "stream",
     "text": [
      "+------+\n",
      "|method|\n",
      "+------+\n",
      "|   PUT|\n",
      "|   GET|\n",
      "+------+\n",
      "\n"
     ]
    }
   ],
   "source": [
    "# Maybe refer to requesting songs/pages etc\n",
    "df_clean.select(\"method\").dropDuplicates().show()"
   ]
  },
  {
   "cell_type": "code",
   "execution_count": 52,
   "metadata": {},
   "outputs": [
    {
     "name": "stdout",
     "output_type": "stream",
     "text": [
      "+--------------------+\n",
      "|                page|\n",
      "+--------------------+\n",
      "|              Cancel|\n",
      "|    Submit Downgrade|\n",
      "|         Thumbs Down|\n",
      "|                Home|\n",
      "|           Downgrade|\n",
      "|         Roll Advert|\n",
      "|              Logout|\n",
      "|       Save Settings|\n",
      "|Cancellation Conf...|\n",
      "|               About|\n",
      "|            Settings|\n",
      "|     Add to Playlist|\n",
      "|          Add Friend|\n",
      "|            NextSong|\n",
      "|           Thumbs Up|\n",
      "|                Help|\n",
      "|             Upgrade|\n",
      "|               Error|\n",
      "|      Submit Upgrade|\n",
      "+--------------------+\n",
      "\n"
     ]
    }
   ],
   "source": [
    "#Lot of options can be useful features to analyze if customer liked it or not \n",
    "df_clean.select(\"page\").dropDuplicates().show(100)"
   ]
  },
  {
   "cell_type": "code",
   "execution_count": 53,
   "metadata": {},
   "outputs": [
    {
     "name": "stdout",
     "output_type": "stream",
     "text": [
      "+--------------------+\n",
      "|           userAgent|\n",
      "+--------------------+\n",
      "|\"Mozilla/5.0 (Mac...|\n",
      "|\"Mozilla/5.0 (Win...|\n",
      "|Mozilla/5.0 (X11;...|\n",
      "|\"Mozilla/5.0 (Mac...|\n",
      "|\"Mozilla/5.0 (Mac...|\n",
      "|Mozilla/5.0 (Maci...|\n",
      "|Mozilla/5.0 (Wind...|\n",
      "|Mozilla/5.0 (Wind...|\n",
      "|Mozilla/5.0 (comp...|\n",
      "|\"Mozilla/5.0 (Win...|\n",
      "|Mozilla/5.0 (Maci...|\n",
      "|\"Mozilla/5.0 (Win...|\n",
      "|\"Mozilla/5.0 (iPh...|\n",
      "|\"Mozilla/5.0 (Win...|\n",
      "|Mozilla/5.0 (Wind...|\n",
      "|Mozilla/5.0 (comp...|\n",
      "|Mozilla/5.0 (comp...|\n",
      "|\"Mozilla/5.0 (Mac...|\n",
      "|\"Mozilla/5.0 (Mac...|\n",
      "|\"Mozilla/5.0 (Win...|\n",
      "+--------------------+\n",
      "only showing top 20 rows\n",
      "\n"
     ]
    }
   ],
   "source": [
    "df_clean.select(\"userAgent\").dropDuplicates().show()"
   ]
  },
  {
   "cell_type": "code",
   "execution_count": 54,
   "metadata": {},
   "outputs": [
    {
     "name": "stdout",
     "output_type": "stream",
     "text": [
      "+---------+\n",
      "|     auth|\n",
      "+---------+\n",
      "|Cancelled|\n",
      "|Logged In|\n",
      "+---------+\n",
      "\n"
     ]
    }
   ],
   "source": [
    "# unique vaue of auth\n",
    "df_clean.select(\"auth\").dropDuplicates().sort(\"auth\").show()"
   ]
  },
  {
   "cell_type": "code",
   "execution_count": 55,
   "metadata": {},
   "outputs": [],
   "source": [
    "# Notice both guests and logged out people have been removed from the data (Need to think about this)"
   ]
  },
  {
   "cell_type": "markdown",
   "metadata": {},
   "source": [
    "### 2.2 EDA & Data Transformations"
   ]
  },
  {
   "cell_type": "code",
   "execution_count": 56,
   "metadata": {},
   "outputs": [],
   "source": [
    "# how many songs users listening in particular hour(need to convert timestamps to datetime from epoch time - need to create function)\n",
    "#udf - User Defined Function\n",
    "get_hour = udf(lambda x: datetime.datetime.fromtimestamp(x/1000.0).hour)"
   ]
  },
  {
   "cell_type": "code",
   "execution_count": 57,
   "metadata": {},
   "outputs": [],
   "source": [
    "#adding new column \"hour\" to our dataframe\n",
    "df_clean = df_clean.withColumn(\"hour\",get_hour(df_clean.ts)) "
   ]
  },
  {
   "cell_type": "code",
   "execution_count": 58,
   "metadata": {},
   "outputs": [
    {
     "name": "stdout",
     "output_type": "stream",
     "text": [
      "+----+\n",
      "|hour|\n",
      "+----+\n",
      "|   7|\n",
      "|  15|\n",
      "|  11|\n",
      "|   3|\n",
      "|   8|\n",
      "|  22|\n",
      "|  16|\n",
      "|   0|\n",
      "|   5|\n",
      "|  18|\n",
      "|  17|\n",
      "|   6|\n",
      "|  19|\n",
      "|  23|\n",
      "|   9|\n",
      "|   1|\n",
      "|  20|\n",
      "|  10|\n",
      "|   4|\n",
      "|  12|\n",
      "+----+\n",
      "only showing top 20 rows\n",
      "\n"
     ]
    }
   ],
   "source": [
    "df_clean.select(\"hour\").dropDuplicates().show()"
   ]
  },
  {
   "cell_type": "code",
   "execution_count": 59,
   "metadata": {},
   "outputs": [],
   "source": [
    "song_in_hour = df_clean.filter(df.page ==\"NextSong\").groupby(df_clean.hour).count().orderBy(df_clean.hour.cast(\"float\"))"
   ]
  },
  {
   "cell_type": "code",
   "execution_count": 60,
   "metadata": {},
   "outputs": [],
   "source": [
    "song_in_hour_pd = song_in_hour.toPandas()\n",
    "song_in_hour_pd.hour = pd.to_numeric(song_in_hour_pd.hour)"
   ]
  },
  {
   "cell_type": "markdown",
   "metadata": {},
   "source": [
    "So around 3pm to 5pm is the best time to push incentives on customer's app"
   ]
  },
  {
   "cell_type": "code",
   "execution_count": 61,
   "metadata": {},
   "outputs": [
    {
     "data": {
      "image/png": "[encoded data removed]",
      "text/plain": [
       "<matplotlib.figure.Figure at 0x7fd48b6700f0>"
      ]
     },
     "metadata": {
      "needs_background": "light"
     },
     "output_type": "display_data"
    }
   ],
   "source": [
    "# The variation is almost constant but peaks after 3 pm til about 8 pm\n",
    "# So around 3pm to 5pm is the best time to push incentives on customer's app\n",
    "plt.scatter(song_in_hour_pd[\"hour\"], song_in_hour_pd[\"count\"])\n",
    "plt.xlim(-1, 24);\n",
    "plt.ylim(0, 1.2 *15000)\n",
    "plt.xlabel(\"Hour\")\n",
    "plt.ylabel(\"Songs played\");"
   ]
  },
  {
   "cell_type": "markdown",
   "metadata": {},
   "source": [
    "Adding state feature"
   ]
  },
  {
   "cell_type": "code",
   "execution_count": 62,
   "metadata": {},
   "outputs": [],
   "source": [
    "df_clean = df_clean.withColumn(\"state\", split(df_clean[\"location\"], \",\")[1])"
   ]
  },
  {
   "cell_type": "markdown",
   "metadata": {},
   "source": [
    "transfrom regsitration time"
   ]
  },
  {
   "cell_type": "code",
   "execution_count": 63,
   "metadata": {},
   "outputs": [],
   "source": [
    "get_date = udf(lambda x: datetime.datetime.fromtimestamp(x / 1000.0).strftime(\"%m-%d-%Y\"))"
   ]
  },
  {
   "cell_type": "code",
   "execution_count": 64,
   "metadata": {},
   "outputs": [],
   "source": [
    "df_clean = df_clean.withColumn(\"ts_date\",get_date(\"ts\")) \n",
    "#df_clean = df_clean.withColumn(\"ts_date\", to_date(df_clean[\"ts_date\"], \"MM-dd-yyyy\"))"
   ]
  },
  {
   "cell_type": "code",
   "execution_count": 65,
   "metadata": {},
   "outputs": [],
   "source": [
    "df_clean = df_clean.withColumn(\"registration_date\",get_date(\"registration\"))\n",
    "df_clean = df_clean.withColumn(\"registration_date\", to_date(df_clean[\"registration_date\"], \"MM-dd-yyyy\"))"
   ]
  },
  {
   "cell_type": "code",
   "execution_count": 66,
   "metadata": {},
   "outputs": [
    {
     "data": {
      "text/plain": [
       "[('ts_date', 'string')]"
      ]
     },
     "execution_count": 66,
     "metadata": {},
     "output_type": "execute_result"
    }
   ],
   "source": [
    "df_clean.select(\"ts_date\").dtypes"
   ]
  },
  {
   "cell_type": "markdown",
   "metadata": {},
   "source": [
    "### Defining CHURN "
   ]
  },
  {
   "cell_type": "code",
   "execution_count": 67,
   "metadata": {},
   "outputs": [],
   "source": [
    "# ADD  a column if CHURN THEN 1 else 0 - when users cancelled their plans\n",
    "# Identified by page - Cancellation Confirmation"
   ]
  },
  {
   "cell_type": "code",
   "execution_count": 68,
   "metadata": {},
   "outputs": [
    {
     "name": "stdout",
     "output_type": "stream",
     "text": [
      "+--------------------+\n",
      "|                page|\n",
      "+--------------------+\n",
      "|              Cancel|\n",
      "|    Submit Downgrade|\n",
      "|         Thumbs Down|\n",
      "|                Home|\n",
      "|           Downgrade|\n",
      "|         Roll Advert|\n",
      "|              Logout|\n",
      "|       Save Settings|\n",
      "|Cancellation Conf...|\n",
      "|               About|\n",
      "| Submit Registration|\n",
      "|            Settings|\n",
      "|               Login|\n",
      "|            Register|\n",
      "|     Add to Playlist|\n",
      "|          Add Friend|\n",
      "|            NextSong|\n",
      "|           Thumbs Up|\n",
      "|                Help|\n",
      "|             Upgrade|\n",
      "|               Error|\n",
      "|      Submit Upgrade|\n",
      "+--------------------+\n",
      "\n"
     ]
    }
   ],
   "source": [
    "df.select(\"page\").dropDuplicates().show(30)"
   ]
  },
  {
   "cell_type": "code",
   "execution_count": 69,
   "metadata": {},
   "outputs": [],
   "source": [
    "## Very Importsnt results - Nukber of customers who have thought about downgrading are 154 but who actually did are only 63"
   ]
  },
  {
   "cell_type": "code",
   "execution_count": 70,
   "metadata": {},
   "outputs": [
    {
     "data": {
      "text/plain": [
       "63"
      ]
     },
     "execution_count": 70,
     "metadata": {},
     "output_type": "execute_result"
    }
   ],
   "source": [
    "df_clean.filter(df_clean[\"page\"] == \"Submit Downgrade\").dropDuplicates().count()"
   ]
  },
  {
   "cell_type": "code",
   "execution_count": 71,
   "metadata": {},
   "outputs": [
    {
     "data": {
      "text/plain": [
       "154"
      ]
     },
     "execution_count": 71,
     "metadata": {},
     "output_type": "execute_result"
    }
   ],
   "source": [
    "df_clean.select(\"userId\").filter(df_clean[\"page\"] == \"Downgrade\").dropDuplicates().count()"
   ]
  },
  {
   "cell_type": "code",
   "execution_count": 72,
   "metadata": {},
   "outputs": [],
   "source": [
    "downgrade = udf(lambda x: 1 if x==\"Submit Downgrade\" else 0, IntegerType())\n",
    "df_clean = df_clean.withColumn(\"user_downgrade\",downgrade(\"page\"))"
   ]
  },
  {
   "cell_type": "code",
   "execution_count": 73,
   "metadata": {},
   "outputs": [],
   "source": [
    "# For now based on observing data although both custiomers who downgraded and customers who cancelled lead to loass in revenue\n",
    "# but for this analysis will consider chuirn as those customers who canceled\n",
    "# will think about including downgraded in next analysis (because if various complexitiesd identified))"
   ]
  },
  {
   "cell_type": "code",
   "execution_count": 74,
   "metadata": {},
   "outputs": [],
   "source": [
    "canceled = udf(lambda x: 1 if x==\"Cancellation Confirmation\" else 0, IntegerType())\n",
    "df_clean = df_clean.withColumn(\"user_churned\",canceled(\"page\"))"
   ]
  },
  {
   "cell_type": "code",
   "execution_count": 75,
   "metadata": {},
   "outputs": [],
   "source": [
    "# df_clean = df_clean.withColumn(\"rev_loss\", when((df_clean.user_downgrade == 1) | (df_clean.user_canceled == 1), 1).otherwise(0))\n",
    "# df_clean.columns"
   ]
  },
  {
   "cell_type": "code",
   "execution_count": 76,
   "metadata": {
    "scrolled": true
   },
   "outputs": [],
   "source": [
    "# a = df_clean.select(\"userId\").filter(df_clean[\"user_canceled\"] == 1).dropDuplicates()\n",
    "# #a.show()\n",
    "# b = df_clean.select(\"userId\").filter(df_clean[\"user_downgrade\"] == 1).dropDuplicates()\n",
    "# b.show()\n",
    "# c =df_clean.select(\"userId\").filter(df_clean[\"user_churned\"] == 1).dropDuplicates()\n",
    "# ans = c.select('userId').rdd.flatMap(lambda x: x).collect()"
   ]
  },
  {
   "cell_type": "code",
   "execution_count": 77,
   "metadata": {},
   "outputs": [],
   "source": [
    "# df_clean = df_clean.withColumn('user_churned', when(col('userId').isin(ans), 1).otherwise(0))"
   ]
  },
  {
   "cell_type": "code",
   "execution_count": 78,
   "metadata": {},
   "outputs": [],
   "source": [
    "# df_clean.select(\"userId\").filter(df_clean[\"user_churned\"] == 1).dropDuplicates().count()"
   ]
  },
  {
   "cell_type": "code",
   "execution_count": 79,
   "metadata": {},
   "outputs": [],
   "source": [
    "# df_clean.select(\"userId\").filter(df_clean[\"user_churned\"] == 0).dropDuplicates().count()"
   ]
  },
  {
   "cell_type": "code",
   "execution_count": 80,
   "metadata": {},
   "outputs": [],
   "source": [
    "# print(\"downgraded their service {}\".format(df_clean.select(\"userId\").filter(df_clean[\"user_downgrade\"] == 1).dropDuplicates().count()))\n",
    "# print(\"cancelled their services {}\".format(df_clean.select(\"userId\").filter(df_clean[\"user_canceled\"] == 1).dropDuplicates().count()))\n",
    "# print(\"total users churned {}\".format(df_clean.select(\"userId\").filter(df_clean[\"user_churned\"] == 1).dropDuplicates().count()))"
   ]
  },
  {
   "cell_type": "code",
   "execution_count": null,
   "metadata": {},
   "outputs": [],
   "source": []
  },
  {
   "cell_type": "code",
   "execution_count": 81,
   "metadata": {},
   "outputs": [
    {
     "data": {
      "text/plain": [
       "52"
      ]
     },
     "execution_count": 81,
     "metadata": {},
     "output_type": "execute_result"
    }
   ],
   "source": [
    "df_clean.select(\"userId\").filter(df_clean[\"user_churned\"] == 1).dropDuplicates().count()"
   ]
  },
  {
   "cell_type": "code",
   "execution_count": 82,
   "metadata": {},
   "outputs": [
    {
     "data": {
      "text/plain": [
       "225"
      ]
     },
     "execution_count": 82,
     "metadata": {},
     "output_type": "execute_result"
    }
   ],
   "source": [
    "df_clean.select(\"userId\").filter(df_clean[\"user_churned\"] == 0).dropDuplicates().count()"
   ]
  },
  {
   "cell_type": "code",
   "execution_count": 83,
   "metadata": {},
   "outputs": [
    {
     "data": {
      "text/plain": [
       "225"
      ]
     },
     "execution_count": 83,
     "metadata": {},
     "output_type": "execute_result"
    }
   ],
   "source": [
    "df_clean.select(\"userId\").dropDuplicates().count()"
   ]
  },
  {
   "cell_type": "code",
   "execution_count": 84,
   "metadata": {},
   "outputs": [
    {
     "data": {
      "text/plain": [
       "277"
      ]
     },
     "execution_count": 84,
     "metadata": {},
     "output_type": "execute_result"
    }
   ],
   "source": [
    "df_clean.select([\"userId\",\"user_churned\"]).dropDuplicates().count()"
   ]
  },
  {
   "cell_type": "code",
   "execution_count": 85,
   "metadata": {},
   "outputs": [
    {
     "name": "stdout",
     "output_type": "stream",
     "text": [
      "+------+\n",
      "|userId|\n",
      "+------+\n",
      "|   125|\n",
      "|    51|\n",
      "|    54|\n",
      "|100014|\n",
      "|   101|\n",
      "|100021|\n",
      "|    29|\n",
      "|    73|\n",
      "|    87|\n",
      "|     3|\n",
      "|    28|\n",
      "|100022|\n",
      "|100025|\n",
      "|300007|\n",
      "|100006|\n",
      "|    18|\n",
      "|    70|\n",
      "|100005|\n",
      "|    17|\n",
      "|100007|\n",
      "+------+\n",
      "only showing top 20 rows\n",
      "\n"
     ]
    }
   ],
   "source": [
    "a = df_clean.select(\"userId\").filter(df_clean[\"user_churned\"] == 0)\n",
    "b= df_clean.select(\"userId\").filter(df_clean[\"user_churned\"] == 1)\n",
    "c = a.join(b,\"userId\",\"inner\")\n",
    "c.dropDuplicates().show()"
   ]
  },
  {
   "cell_type": "code",
   "execution_count": 86,
   "metadata": {},
   "outputs": [
    {
     "data": {
      "image/png": "[encoded data removed]",
      "text/plain": [
       "<matplotlib.figure.Figure at 0x7fd48be80240>"
      ]
     },
     "metadata": {
      "needs_background": "light"
     },
     "output_type": "display_data"
    }
   ],
   "source": [
    "import pyspark.sql.functions as F\n",
    "\n",
    "# Group by \"user_churned\" and count distinct \"userId\" values\n",
    "grouped_df = df_clean.groupBy(\"user_churned\").agg(F.countDistinct(\"userId\").alias(\"unique_user_count\"))\n",
    "\n",
    "# Convert the DataFrame to Pandas for plotting\n",
    "pandas_df = grouped_df.toPandas()\n",
    "\n",
    "# Plot the bar chart\n",
    "plt.bar(pandas_df[\"user_churned\"], pandas_df[\"unique_user_count\"])\n",
    "plt.xlabel(\"User Churned\")\n",
    "plt.ylabel(\"Count of Unique User IDs\")\n",
    "plt.title(\"Count of Unique User IDs by User Churned\")\n",
    "plt.xticks([0,1])\n",
    "plt.show()"
   ]
  },
  {
   "cell_type": "code",
   "execution_count": 87,
   "metadata": {},
   "outputs": [
    {
     "name": "stdout",
     "output_type": "stream",
     "text": [
      "+------+------+\n",
      "|gender| count|\n",
      "+------+------+\n",
      "|     F|154578|\n",
      "|     M|123576|\n",
      "+------+------+\n",
      "\n"
     ]
    }
   ],
   "source": [
    "df_clean.select(\"gender\").groupby(\"gender\").count().show()"
   ]
  },
  {
   "cell_type": "code",
   "execution_count": 88,
   "metadata": {},
   "outputs": [
    {
     "data": {
      "image/png": "[encoded data removed]",
      "text/plain": [
       "<matplotlib.figure.Figure at 0x7fd48b3af4a8>"
      ]
     },
     "metadata": {
      "needs_background": "light"
     },
     "output_type": "display_data"
    }
   ],
   "source": [
    "f0 = df_clean.filter((col('user_churned') == 0) & (col('gender') == 'F'))\n",
    "f1 = df_clean.filter((col('user_churned') == 1) & (col('gender') == 'F'))\n",
    "m0 = df_clean.filter((col('user_churned') == 0) & (col('gender') == 'M'))\n",
    "m1 = df_clean.filter((col('user_churned') == 1) & (col('gender') == 'M'))\n",
    "fc1 = f1.select(\"userId\").distinct().count()\n",
    "fc0 = f0.select(\"userId\").distinct().count()\n",
    "mc0 = m0.select(\"userId\").distinct().count()\n",
    "mc1 = m1.select(\"userId\").distinct().count()\n",
    "labels = ['Females not churned', 'Females churned', 'Males not churned', 'Males churned']\n",
    "counts = [fc0,fc1,mc0,mc1]\n",
    "\n",
    "plt.bar(labels, counts)\n",
    "plt.xlabel('Gender and Value')\n",
    "plt.ylabel('Counts')\n",
    "plt.title('Counts of Unique Females and Males with 0 and 1')\n",
    "plt.show()"
   ]
  },
  {
   "cell_type": "markdown",
   "metadata": {},
   "source": [
    "We can see that because male users > female users therefore population of both churned and no-churned is same (Observed from below graph as well)"
   ]
  },
  {
   "cell_type": "code",
   "execution_count": 89,
   "metadata": {},
   "outputs": [
    {
     "data": {
      "text/plain": [
       "<matplotlib.axes._subplots.AxesSubplot at 0x7fd48b6e6cf8>"
      ]
     },
     "execution_count": 89,
     "metadata": {},
     "output_type": "execute_result"
    },
    {
     "data": {
      "image/png": "[encoded data removed]",
      "text/plain": [
       "<matplotlib.figure.Figure at 0x7fd48b748400>"
      ]
     },
     "metadata": {
      "needs_background": "light"
     },
     "output_type": "display_data"
    }
   ],
   "source": [
    "gender_count = df_clean.select('userId','gender','user_churned').dropDuplicates().groupby('gender','user_churned').count().toPandas()\n",
    "fig = plt.figure(figsize=(8,8))\n",
    "ax = fig.gca()\n",
    "plt.rcParams[\"font.size\"] = \"20\"\n",
    "gender_count.pivot(index='user_churned', columns='gender', values='count').plot(kind='bar',ax=ax)"
   ]
  },
  {
   "cell_type": "code",
   "execution_count": 90,
   "metadata": {},
   "outputs": [],
   "source": [
    "# better tpo calcualte % of each genders that churned\n"
   ]
  },
  {
   "cell_type": "code",
   "execution_count": 91,
   "metadata": {},
   "outputs": [
    {
     "data": {
      "text/plain": [
       "<matplotlib.axes._subplots.AxesSubplot at 0x7fd48b32d978>"
      ]
     },
     "execution_count": 91,
     "metadata": {},
     "output_type": "execute_result"
    },
    {
     "data": {
      "image/png": "[encoded data removed]",
      "text/plain": [
       "<matplotlib.figure.Figure at 0x7fd48d78ea58>"
      ]
     },
     "metadata": {
      "needs_background": "light"
     },
     "output_type": "display_data"
    }
   ],
   "source": [
    "level_count = df_clean.select('userId','level','user_churned').dropDuplicates().groupby('level','user_churned').count().toPandas()\n",
    "fig = plt.figure(figsize=(8,8))\n",
    "ax = fig.gca()\n",
    "plt.rcParams[\"font.size\"] = \"20\"\n",
    "level_count.pivot(index='user_churned', columns='level', values='count').plot(kind='bar',ax=ax)"
   ]
  },
  {
   "cell_type": "code",
   "execution_count": 92,
   "metadata": {},
   "outputs": [
    {
     "data": {
      "text/plain": [
       "['artist',\n",
       " 'auth',\n",
       " 'firstName',\n",
       " 'gender',\n",
       " 'itemInSession',\n",
       " 'lastName',\n",
       " 'length',\n",
       " 'level',\n",
       " 'location',\n",
       " 'method',\n",
       " 'page',\n",
       " 'registration',\n",
       " 'sessionId',\n",
       " 'song',\n",
       " 'status',\n",
       " 'ts',\n",
       " 'userAgent',\n",
       " 'userId',\n",
       " 'hour',\n",
       " 'state',\n",
       " 'ts_date',\n",
       " 'registration_date',\n",
       " 'user_downgrade',\n",
       " 'user_churned']"
      ]
     },
     "execution_count": 92,
     "metadata": {},
     "output_type": "execute_result"
    }
   ],
   "source": [
    "df_clean.columns"
   ]
  },
  {
   "cell_type": "code",
   "execution_count": 93,
   "metadata": {},
   "outputs": [
    {
     "data": {
      "text/plain": [
       "<matplotlib.axes._subplots.AxesSubplot at 0x7fd48afdb278>"
      ]
     },
     "execution_count": 93,
     "metadata": {},
     "output_type": "execute_result"
    },
    {
     "data": {
      "image/png": "[encoded data removed]",
      "text/plain": [
       "<matplotlib.figure.Figure at 0x7fd48b2f55f8>"
      ]
     },
     "metadata": {
      "needs_background": "light"
     },
     "output_type": "display_data"
    }
   ],
   "source": [
    "state_count = df_clean.select('userId','state','user_churned').dropDuplicates().groupby('state','user_churned').count().toPandas()\n",
    "fig = plt.figure(figsize=(18,12))\n",
    "ax = fig.gca()\n",
    "#plt.rcParams[\"font.size\"] = \"8\"\n",
    "state_count.pivot(index='state', columns='user_churned', values='count').plot(kind='bar',ax=ax)"
   ]
  },
  {
   "cell_type": "code",
   "execution_count": 94,
   "metadata": {},
   "outputs": [],
   "source": [
    "df_clean.createOrReplaceTempView(\"df_sql\")\n",
    "#df_clean.select([\"sessionId\", 'userId','length',\"user_churned\"]).groupby([\"user_id\",\"sessionId\",\"user_churned\"]).sum(\"length\").show()\n",
    "hours_spent = spark.sql('''\n",
    "          SELECT user_churned, Round(Sum(length)/3600,2) As hours_listened\n",
    "          FROM df_sql\n",
    "          GROUP BY user_churned\n",
    "          ''' \n",
    "          )\n"
   ]
  },
  {
   "cell_type": "code",
   "execution_count": 95,
   "metadata": {},
   "outputs": [
    {
     "name": "stdout",
     "output_type": "stream",
     "text": [
      "+------------+--------------+\n",
      "|user_churned|hours_listened|\n",
      "+------------+--------------+\n",
      "|           1|          null|\n",
      "|           0|       15784.9|\n",
      "+------------+--------------+\n",
      "\n"
     ]
    }
   ],
   "source": [
    "hours_spent.show()"
   ]
  },
  {
   "cell_type": "code",
   "execution_count": 96,
   "metadata": {},
   "outputs": [
    {
     "name": "stdout",
     "output_type": "stream",
     "text": [
      "+------+------------+--------------+\n",
      "|userId|user_churned|hours_listened|\n",
      "+------+------------+--------------+\n",
      "|100005|           1|          null|\n",
      "|300007|           1|          null|\n",
      "|100011|           1|          null|\n",
      "|100012|           1|          null|\n",
      "|   101|           1|          null|\n",
      "|100014|           1|          null|\n",
      "|200001|           1|          null|\n",
      "|   105|           1|          null|\n",
      "|     3|           1|          null|\n",
      "|100023|           1|          null|\n",
      "|200017|           1|          null|\n",
      "|200015|           1|          null|\n",
      "|    18|           1|          null|\n",
      "|   125|           1|          null|\n",
      "|100015|           1|          null|\n",
      "|100003|           1|          null|\n",
      "|    87|           1|          null|\n",
      "|    17|           1|          null|\n",
      "|    73|           1|          null|\n",
      "|100025|           1|          null|\n",
      "+------+------------+--------------+\n",
      "only showing top 20 rows\n",
      "\n"
     ]
    }
   ],
   "source": [
    "hours_spent = spark.sql('''\n",
    "          SELECT userId, user_churned, Round(Sum(length)/3600,2) As hours_listened\n",
    "          FROM df_sql\n",
    "          WHERE user_churned = 1\n",
    "          GROUP BY userId, user_churned\n",
    "          ''' \n",
    "          ).show()"
   ]
  },
  {
   "cell_type": "code",
   "execution_count": 97,
   "metadata": {},
   "outputs": [
    {
     "name": "stdout",
     "output_type": "stream",
     "text": [
      "+------------+--------------------------+------------------------+\n",
      "|user_churned|round(avg(cnt_session), 2)|round(avg(sum_items), 2)|\n",
      "+------------+--------------------------+------------------------+\n",
      "|           1|                       1.0|                   88.19|\n",
      "|           0|                   1236.01|               142022.58|\n",
      "+------------+--------------------------+------------------------+\n",
      "\n"
     ]
    }
   ],
   "source": [
    "session_result = spark.sql('''\n",
    "          SELECT userId, user_churned , COUNT(sessionId) as cnt_session,SUM(itemInSession) AS sum_items\n",
    "          FROM df_sql\n",
    "          GROUP BY userId, user_churned\n",
    "          ''' \n",
    "          )\n",
    "session_result.createOrReplaceTempView(\"df_s\")\n",
    "ans = spark.sql('''\n",
    "          SELECT user_churned, Round(AVG(cnt_session),2),Round(AVG(sum_items),2)\n",
    "          FROM df_s\n",
    "          GROUP BY user_churned\n",
    "          ''' \n",
    "          ).show()"
   ]
  },
  {
   "cell_type": "code",
   "execution_count": 98,
   "metadata": {},
   "outputs": [],
   "source": [
    "# Need to add the time_since_registeration\n",
    "# see for both churn and nin-churn\n",
    "# Ecplor method part\n",
    "# Status count per churn group\n",
    "# etc\n",
    "\n",
    "# inea chart about how number of usa varies fro paid and free plan\n",
    "# song count_per churn grpop\n",
    "# sg count oper week\n",
    "# song count by hout\n",
    "# song count by wek days\n",
    "# song length churn vs non_churn\n",
    "# count other oage \n",
    "#countnw sog pahge\n",
    "# count niusn son page\n",
    "#page count per hou"
   ]
  },
  {
   "cell_type": "code",
   "execution_count": 99,
   "metadata": {},
   "outputs": [],
   "source": [
    "# calcualte time since joining (registration time - max(ts)) for each user\n"
   ]
  },
  {
   "cell_type": "markdown",
   "metadata": {},
   "source": []
  },
  {
   "cell_type": "code",
   "execution_count": 100,
   "metadata": {},
   "outputs": [],
   "source": [
    "df_clean.createOrReplaceTempView(\"df_sql\")\n",
    "a = spark.sql('''\n",
    "         SELECT userId, MAX(user_churned) AS user_churned, MIN(registration_date) AS registration_dt, MAX(ts_date) AS ts_dt\n",
    "         FROM df_sql\n",
    "         GROUP BY userID\n",
    "         ''')"
   ]
  },
  {
   "cell_type": "code",
   "execution_count": 101,
   "metadata": {},
   "outputs": [
    {
     "name": "stdout",
     "output_type": "stream",
     "text": [
      "+------+------------+----------------------------------------------+\n",
      "|userId|user_churned|datediff(CAST(ts_dt AS DATE), registration_dt)|\n",
      "+------+------------+----------------------------------------------+\n",
      "|100010|           0|                                          null|\n",
      "|200002|           0|                                          null|\n",
      "|   125|           1|                                          null|\n",
      "|   124|           0|                                          null|\n",
      "|    51|           1|                                          null|\n",
      "|     7|           0|                                          null|\n",
      "|    15|           0|                                          null|\n",
      "|    54|           1|                                          null|\n",
      "|   155|           0|                                          null|\n",
      "|100014|           1|                                          null|\n",
      "|   132|           0|                                          null|\n",
      "|   154|           0|                                          null|\n",
      "|   101|           1|                                          null|\n",
      "|    11|           0|                                          null|\n",
      "|   138|           0|                                          null|\n",
      "|300017|           0|                                          null|\n",
      "|100021|           1|                                          null|\n",
      "|    29|           1|                                          null|\n",
      "|    69|           0|                                          null|\n",
      "|   112|           0|                                          null|\n",
      "+------+------------+----------------------------------------------+\n",
      "only showing top 20 rows\n",
      "\n"
     ]
    }
   ],
   "source": [
    "a.createOrReplaceTempView(\"df2\")     \n",
    "final_days_period = spark.sql('''\n",
    "                                SELECT userId, user_churned, DATEDIFF(ts_dt,registration_dt)\n",
    "                                from df2\n",
    "                             ''').show()"
   ]
  },
  {
   "cell_type": "markdown",
   "metadata": {},
   "source": [
    "# Feature Engineering\n",
    "Once you've familiarized yourself with the data, build out the features you find promising to train your model on. To work with the full dataset, you can follow the following steps.\n",
    "- Write a script to extract the necessary features from the smaller subset of data\n",
    "- Ensure that your script is scalable, using the best practices discussed in Lesson 3\n",
    "- Try your script on the full data set, debugging your script if necessary\n",
    "\n",
    "If you are working in the classroom workspace, you can just extract features based on the small subset of data contained here. Be sure to transfer over this work to the larger dataset when you work on your Spark cluster."
   ]
  },
  {
   "cell_type": "code",
   "execution_count": 38,
   "metadata": {},
   "outputs": [],
   "source": [
    "df = spark.read.json(\"mini_sparkify_event_data.json\")"
   ]
  },
  {
   "cell_type": "code",
   "execution_count": 39,
   "metadata": {},
   "outputs": [],
   "source": [
    "def clean_data(df):\n",
    "    '''\n",
    "    Function that performs data cleaning of Sparkify dataset.\n",
    "    \n",
    "    INPUT: \n",
    "    df - pyspark dataframe containing Sparkify events\n",
    "    \n",
    "    OUTPUT:\n",
    "    df_new - pyspark dataframe with removed rows with empty 'userId' column and duplicates if any\n",
    "    '''\n",
    "    \n",
    "    # remove rows where userId is empty and duplicated rows\n",
    "    #df_clean = df.dropna(how = \"any\", subset = [\"userId\", \"sessionId\"])\n",
    "    #df_clean = df.filter(df[\"userId\"] != \"\")\n",
    "    \n",
    "    df_clean = df.filter(df[\"firstName\"].isNotNull()).dropDuplicates()\n",
    "    return df_clean\n",
    "\n",
    "\n",
    "# def get_date_from_timestamp(df, col_name, new_col_name):\n",
    "#     '''\n",
    "#     Function that convert timestamp to date\n",
    "#     '''\n",
    "#     get_date = udf(lambda x: datetime.datetime.fromtimestamp(x / 1000.0).strftime(\"%m-%d-%Y\"))\n",
    "#     df.withColumn(new_col_name,get_date(df_clean[col_name])) \n",
    "#     df = df.withColumn(new_col_name, to_date(df[col_name], \"MM-dd-yyyy\"))\n",
    "#     return df\n",
    "#     #return df.withColumn(new_col_name, F.to_timestamp(F.col(col_name) / 1000).astype(StringType()))\n",
    "    \n",
    "#     #return df.withColumn(new_col_name, F.to_date(F.col(col_name) / 1000).astype(StringType()))"
   ]
  },
  {
   "cell_type": "code",
   "execution_count": 40,
   "metadata": {},
   "outputs": [],
   "source": [
    "def prepare_dataset(df):\n",
    "    '''\n",
    "    Function for preparation of dataset for machine learning models.\n",
    "    \n",
    "    INPUT:\n",
    "    df - initial dataset loaded from json file\n",
    "    \n",
    "    OUTPUT:\n",
    "    df_ml - new dataset prepared for machine learning which\n",
    "    contains the following columns:\n",
    "    \n",
    "    1. userId - initial id of the user\n",
    "    2. gender - user's gender\n",
    "    3. days_registered - days since user's registration\n",
    "    4. last_state - current state of the user\n",
    "    5. avg_songs_per_day - average songs played per day\n",
    "    6. last_level - current subscription plan\n",
    "    7. Thumbsup_proportion - ratio of thumbs up over thumbs down\n",
    "    8. num_add_friends - number of add friends events\n",
    "    9. avg_roll_adv_per_day - average number of roll adv played per day\n",
    "    10. churn_cancellation\n",
    "    '''\n",
    "    \n",
    "    # Clean dataset using clean_data function\n",
    "    df = clean_data(df)\n",
    "    \n",
    "    get_date = udf(lambda x: datetime.datetime.fromtimestamp(x / 1000.0).strftime(\"%m-%d-%Y\"))\n",
    "\n",
    "    df = df.withColumn(\"ts_date\", to_date(get_date(df[\"ts\"]), \"MM-dd-yyyy\"))\n",
    "    df = df.withColumn(\"registration_date\", to_date(get_date(df[\"registration\"]), \"MM-dd-yyyy\"))\n",
    "    \n",
    "    # Create column Churn when the event recorded is 'Cancellation Confirmation'. \n",
    "    # A value equal to 1 indicates that the user cancelled the subscription.\n",
    "    churn_cancellation = udf(lambda x: 1 if x==\"Cancellation Confirmation\" else 0, IntegerType())\n",
    "    \n",
    "    df = df.withColumn(\"churn_cancellation\", churn_cancellation(\"page\"))\n",
    "    \n",
    "    # Get userId with churn_cancellation == 1\n",
    "    cancelled_users = df.select(['userId']).where(df.churn_cancellation == 1).groupby('userId').count().toPandas()['userId'].values\n",
    "    cancelled_users = list(cancelled_users)\n",
    "    df = df.withColumn('churn_cancellation', when((df.userId).isin(cancelled_users), 1).otherwise(0))\n",
    "    \n",
    "    # Convert column gender to numeric: 1 for 'female' and 0 for 'male'\n",
    "    gender = udf(lambda x: 1 if x==\"F\" else 0, IntegerType())\n",
    "    \n",
    "    df = df.withColumn(\"gender\", gender(\"gender\"))\n",
    "    \n",
    "    # Convert column level to numeric: 1 for 'paid' and 0 for 'free'\n",
    "    \n",
    "    \n",
    "    #df = df.withColumn(\"level\", level(\"level\"))\n",
    "    \n",
    "\n",
    "\n",
    "    \n",
    "    # Compute active days as number of days since registration\n",
    "    # Create dataframe with last timestamp (ts_date) per user\n",
    "    df_last_ts = df.groupBy('userId').agg(max('ts_date').alias('last_interaction'))\n",
    "    \n",
    "    df = df.join(df_last_ts, on='userId').select(df_last_ts['*'], df['*']).withColumn('days_registered', datediff(df_last_ts['last_interaction'], df['registration_date']).cast('float'))\n",
    "    \n",
    "    # Create a new column 'date' with format 'yyyy-MM-dd'\n",
    "    df = df.withColumn('date', date_format('ts_date', 'yyyy-MM-dd').alias('date'))\n",
    "    \n",
    "    # Create a new column 'last_state' where the last session was recorded\n",
    "    #df = df.withColumn(\"state\", substring(df.location, -2, 2))\n",
    "    #df = df.withColumn('last_state', when(df_last_ts.last_interaction == df.ts_date, df.state))\n",
    "    ###############################################################################\n",
    "    #print(df.select(\"page\").dropDuplicates().show())\n",
    "    ###############################################################################\n",
    "\n",
    "    return df"
   ]
  },
  {
   "cell_type": "code",
   "execution_count": 41,
   "metadata": {},
   "outputs": [],
   "source": [
    "ans = prepare_dataset(df)"
   ]
  },
  {
   "cell_type": "code",
   "execution_count": 42,
   "metadata": {},
   "outputs": [],
   "source": [
    "def build_features(df):\n",
    "    \n",
    "    df = prepare_dataset(df)\n",
    "    # Compute average songs played by day per user\n",
    "    avg_songs = df.filter(df.page == \"NextSong\").groupBy('userId',\"ts_date\").agg({'page':'count'})\\\n",
    "                                        .groupBy(\"userId\").mean().withColumnRenamed(\"avg(count(page))\",\"avg_songs\")\\\n",
    "                                        .withColumn(\"avg_songs\", round(\"avg_songs\", 2))\n",
    "    avg_songs = avg_songs.select(avg_songs['userId'].alias('songs_userId'), \"avg_songs\")\n",
    "    #avg_songs.show()\n",
    "    \n",
    "    # Compute the number of thumbs up for user\n",
    "    thumbs_up = df.filter(df.page == \"Thumbs Up\").groupBy('userId').agg({'page':'count'})\n",
    "    thumbs_up = thumbs_up.select(thumbs_up['userId'].alias('thumbsup_userId'), thumbs_up['count(page)'].alias('thumbs_up_count'))\n",
    "    #thumbs_up.show()\n",
    "    \n",
    "    # Compute the number of thumbs down per user\n",
    "    thumbs_down = df.filter(df.page == \"Thumbs Down\").groupBy('userId').agg({'page':'count'})\n",
    "    thumbs_down = thumbs_down.select(thumbs_down['userId'].alias('thumbsdown_userId'), thumbs_down['count(page)'].alias('thumbs_down_count'))\n",
    "      \n",
    "\n",
    "    # Compute the number of add friend events per user\n",
    "    add_friend = df.filter(df.page == \"Add Friend\").groupBy('userId').agg({'page':'count'})\\\n",
    "                                     .withColumnRenamed(\"count(page)\",\"num_friends\")\n",
    "    add_friend = add_friend.select(add_friend['userId'].alias('add_friend_userId'), \"num_friends\")\n",
    "    \n",
    "    # Compute the fraction of page 'roll advert'\n",
    "    avg_roll_adv = df.filter(df.page == \"Roll Advert\").groupBy('userId',\"ts_date\").agg({'page':'count'})\\\n",
    "                                        .groupBy(\"userId\").mean().withColumnRenamed(\"avg(count(page))\",\"avg_roll_advert\")\\\n",
    "                                        .withColumn(\"avg_roll_advert\", round(\"avg_roll_advert\", 2))\n",
    "    avg_roll_adv = avg_roll_adv.select(avg_roll_adv['userId'].alias('roll_adv_userId'), \"avg_roll_advert\")\n",
    "    \n",
    "    # daily help\n",
    "    dailyHelpVisit = df.filter(df.page == \"Help\").groupBy('userId',\"ts_date\").agg({'page':'count'})\\\n",
    "                                        .groupBy(\"userId\").mean().withColumnRenamed(\"avg(count(page))\",\"help_visit\")\n",
    "    dailyHelpVisit = dailyHelpVisit.select(dailyHelpVisit['userId'].alias('help_userId'), \"help_visit\")\n",
    "    \n",
    "    #daily error\n",
    "    dailyErrorVisit = df.filter(df.page == \"Error\").groupBy('userId',\"ts_date\").agg({'page':'count'})\\\n",
    "                                        .groupBy(\"userId\").mean().withColumnRenamed(\"avg(count(page))\",\"error_visit\")\n",
    "    \n",
    "    dailyErrorVisit = dailyErrorVisit.select(dailyErrorVisit['userId'].alias('error_userId'), \"error_visit\")                                 \n",
    "    #total playlist\n",
    "    num_playlist = df.filter(df.page == \"Add to Playlist\").groupBy('userId').agg({'page':'count'})\\\n",
    "                                        .withColumnRenamed(\"count(page)\",\"total_playlist\")\\\n",
    "                                        .withColumn(\"total_playlist\", round(\"total_playlist\", 2))\n",
    "    num_playlist = num_playlist.select(num_playlist['userId'].alias('playlist_userId'), \"total_playlist\")\n",
    "                  \n",
    "    #print(df.columns)\n",
    "    level = udf(lambda x: 1 if x==\"paid\" else 0, IntegerType())\n",
    "    levels = df.select(['userId', 'level', 'ts_date'])\\\n",
    "                        .orderBy(desc('ts_date'))\\\n",
    "                        .dropDuplicates(['userId'])\\\n",
    "                        .select(['userId', 'level'])\\\n",
    "                        .withColumn('last_level', level(df['level']).cast(IntegerType()))\n",
    "    levels = levels.drop('level')\n",
    "    levels = levels.withColumnRenamed('userId', 'level_userId')\n",
    "    \n",
    "    # Combine all the features into a single dataframe\n",
    "    df_ml = df.select('userId', 'gender', 'churn_cancellation', 'days_registered', 'last_state').dropna().drop_duplicates() \\\n",
    "              .join(avg_songs, avg_songs.songs_userId == df.userId, how='left')\\\n",
    "              .join(levels, levels.level_userId == df.userId, how='left')\\\n",
    "              .join(thumbs_up, thumbs_up.thumbsup_userId == df.userId, how='left') \\\n",
    "              .join(thumbs_down, thumbs_down.thumbsdown_userId == df.userId, how='left') \\\n",
    "              .join(add_friend, add_friend.add_friend_userId == df.userId, how='left') \\\n",
    "              .join(avg_roll_adv, avg_roll_adv.roll_adv_userId == df.userId, how='left') \\\n",
    "              .join(dailyHelpVisit, dailyHelpVisit.help_userId == df.userId, how='left') \\\n",
    "              .join(dailyErrorVisit, dailyErrorVisit.error_userId == df.userId, how='left') \\\n",
    "              .join(num_playlist, num_playlist.playlist_userId == df.userId, how='left') \\\n",
    "              .drop('songs_userId', 'thumbsup_userId', 'thumbsdown_userId', 'add_friend_userId', 'roll_adv_userId', 'help_userId', 'error_userId', 'playlist_userId',\"level_userId\") \\\n",
    "              .fillna(0)\n",
    "    \n",
    "    return df_ml\n"
   ]
  },
  {
   "cell_type": "code",
   "execution_count": 43,
   "metadata": {},
   "outputs": [],
   "source": [
    "df_model=build_features(df)"
   ]
  },
  {
   "cell_type": "code",
   "execution_count": 44,
   "metadata": {},
   "outputs": [
    {
     "name": "stdout",
     "output_type": "stream",
     "text": [
      "+------+------+------------------+---------------+----------+---------+----------+---------------+-----------------+-----------+---------------+------------------+------------------+--------------+\n",
      "|userId|gender|churn_cancellation|days_registered|last_state|avg_songs|last_level|thumbs_up_count|thumbs_down_count|num_friends|avg_roll_advert|        help_visit|       error_visit|total_playlist|\n",
      "+------+------+------------------+---------------+----------+---------+----------+---------------+-----------------+-----------+---------------+------------------+------------------+--------------+\n",
      "|100010|     1|                 0|           55.0|        CT|    39.29|         0|             17|                5|          4|           8.67|               1.0|               0.0|             7|\n",
      "|200002|     0|                 0|           70.0|        WI|    55.29|         1|             21|                6|          4|           1.75|               1.0|               0.0|             8|\n",
      "|   125|     0|                 1|           72.0|        TX|      8.0|         0|              0|                0|          0|            1.0|               0.0|               0.0|             0|\n",
      "|   124|     1|                 0|          131.0|        NJ|   127.47|         1|            171|               41|         74|            1.0|            1.4375|               1.2|           118|\n",
      "|    51|     0|                 1|           20.0|        KY|   162.38|         1|            100|               21|         28|            0.0|1.7142857142857142|               1.0|            52|\n",
      "|     7|     0|                 0|           73.0|        WA|    18.75|         0|              7|                1|          1|            3.2|               1.0|               1.0|             5|\n",
      "|    15|     0|                 0|           57.0|        WV|   100.74|         1|             81|               14|         31|            1.0|1.1428571428571428|               1.0|            59|\n",
      "|    54|     1|                 1|          110.0|        WA|     94.7|         1|            163|               29|         33|           3.62|1.1333333333333333|               1.0|            72|\n",
      "|   155|     1|                 0|           24.0|        NH|    102.5|         1|             58|                3|         11|            4.0|               1.8|               1.0|            24|\n",
      "|100014|     0|                 1|           85.0|        PA|    42.83|         1|             17|                3|          6|            1.0|               1.0|               0.0|             7|\n",
      "|   132|     1|                 0|           67.0|        CO|    91.81|         1|             96|               17|         41|            1.0|1.7777777777777777|               1.0|            38|\n",
      "|   154|     1|                 0|           24.0|        PA|     28.0|         0|             11|                0|          3|           3.33|               1.0|               0.0|             1|\n",
      "|   101|     0|                 1|           54.0|        CO|   138.23|         1|             86|               16|         29|            4.0|1.7142857142857142|               1.5|            61|\n",
      "|    11|     1|                 0|          125.0|        MA|    40.44|         1|             40|                9|          6|           3.25|               1.5|               1.0|            20|\n",
      "|   138|     0|                 0|           66.0|        PA|   121.76|         1|             95|               24|         41|           2.83|1.8571428571428572|               1.0|            67|\n",
      "|300017|     1|                 0|           74.0|        MI|    75.67|         1|            303|               28|         63|           1.22|              1.35|              1.25|           113|\n",
      "|100021|     0|                 1|           65.0|        TX|     46.0|         0|             11|                5|          7|            6.0|               0.0|               1.0|             7|\n",
      "|    29|     0|                 1|           60.0|        CA|   104.41|         1|            154|               22|         47|            2.0|1.5555555555555556|               0.0|            89|\n",
      "|    69|     1|                 0|           71.0|        WI|    93.75|         1|             72|                9|         12|            1.5|2.3333333333333335|1.3333333333333333|            33|\n",
      "|   112|     0|                 0|           87.0|        IN|    30.71|         0|              9|                3|          7|            3.0|               1.0|               0.0|             7|\n",
      "+------+------+------------------+---------------+----------+---------+----------+---------------+-----------------+-----------+---------------+------------------+------------------+--------------+\n",
      "only showing top 20 rows\n",
      "\n"
     ]
    }
   ],
   "source": [
    "df_model.show()"
   ]
  },
  {
   "cell_type": "code",
   "execution_count": 46,
   "metadata": {},
   "outputs": [],
   "source": [
    "df_model.rdd.saveAsPickleFile(\"df_data3\")"
   ]
  },
  {
   "cell_type": "code",
   "execution_count": 47,
   "metadata": {},
   "outputs": [],
   "source": [
    "df_final = df_model.toPandas()"
   ]
  },
  {
   "cell_type": "code",
   "execution_count": 48,
   "metadata": {},
   "outputs": [
    {
     "data": {
      "text/html": [
       "<div>\n",
       "<style scoped>\n",
       "    .dataframe tbody tr th:only-of-type {\n",
       "        vertical-align: middle;\n",
       "    }\n",
       "\n",
       "    .dataframe tbody tr th {\n",
       "        vertical-align: top;\n",
       "    }\n",
       "\n",
       "    .dataframe thead th {\n",
       "        text-align: right;\n",
       "    }\n",
       "</style>\n",
       "<table border=\"1\" class=\"dataframe\">\n",
       "  <thead>\n",
       "    <tr style=\"text-align: right;\">\n",
       "      <th></th>\n",
       "      <th>userId</th>\n",
       "      <th>gender</th>\n",
       "      <th>churn_cancellation</th>\n",
       "      <th>days_registered</th>\n",
       "      <th>last_state</th>\n",
       "      <th>avg_songs</th>\n",
       "      <th>last_level</th>\n",
       "      <th>thumbs_up_count</th>\n",
       "      <th>thumbs_down_count</th>\n",
       "      <th>num_friends</th>\n",
       "      <th>avg_roll_advert</th>\n",
       "      <th>help_visit</th>\n",
       "      <th>error_visit</th>\n",
       "      <th>total_playlist</th>\n",
       "    </tr>\n",
       "  </thead>\n",
       "  <tbody>\n",
       "    <tr>\n",
       "      <th>0</th>\n",
       "      <td>100010</td>\n",
       "      <td>1</td>\n",
       "      <td>0</td>\n",
       "      <td>55.0</td>\n",
       "      <td>CT</td>\n",
       "      <td>39.29</td>\n",
       "      <td>0</td>\n",
       "      <td>17</td>\n",
       "      <td>5</td>\n",
       "      <td>4</td>\n",
       "      <td>8.67</td>\n",
       "      <td>1.000000</td>\n",
       "      <td>0.0</td>\n",
       "      <td>7</td>\n",
       "    </tr>\n",
       "    <tr>\n",
       "      <th>1</th>\n",
       "      <td>200002</td>\n",
       "      <td>0</td>\n",
       "      <td>0</td>\n",
       "      <td>70.0</td>\n",
       "      <td>WI</td>\n",
       "      <td>55.29</td>\n",
       "      <td>1</td>\n",
       "      <td>21</td>\n",
       "      <td>6</td>\n",
       "      <td>4</td>\n",
       "      <td>1.75</td>\n",
       "      <td>1.000000</td>\n",
       "      <td>0.0</td>\n",
       "      <td>8</td>\n",
       "    </tr>\n",
       "    <tr>\n",
       "      <th>2</th>\n",
       "      <td>125</td>\n",
       "      <td>0</td>\n",
       "      <td>1</td>\n",
       "      <td>72.0</td>\n",
       "      <td>TX</td>\n",
       "      <td>8.00</td>\n",
       "      <td>0</td>\n",
       "      <td>0</td>\n",
       "      <td>0</td>\n",
       "      <td>0</td>\n",
       "      <td>1.00</td>\n",
       "      <td>0.000000</td>\n",
       "      <td>0.0</td>\n",
       "      <td>0</td>\n",
       "    </tr>\n",
       "    <tr>\n",
       "      <th>3</th>\n",
       "      <td>124</td>\n",
       "      <td>1</td>\n",
       "      <td>0</td>\n",
       "      <td>131.0</td>\n",
       "      <td>NJ</td>\n",
       "      <td>127.47</td>\n",
       "      <td>1</td>\n",
       "      <td>171</td>\n",
       "      <td>41</td>\n",
       "      <td>74</td>\n",
       "      <td>1.00</td>\n",
       "      <td>1.437500</td>\n",
       "      <td>1.2</td>\n",
       "      <td>118</td>\n",
       "    </tr>\n",
       "    <tr>\n",
       "      <th>4</th>\n",
       "      <td>51</td>\n",
       "      <td>0</td>\n",
       "      <td>1</td>\n",
       "      <td>20.0</td>\n",
       "      <td>KY</td>\n",
       "      <td>162.38</td>\n",
       "      <td>1</td>\n",
       "      <td>100</td>\n",
       "      <td>21</td>\n",
       "      <td>28</td>\n",
       "      <td>0.00</td>\n",
       "      <td>1.714286</td>\n",
       "      <td>1.0</td>\n",
       "      <td>52</td>\n",
       "    </tr>\n",
       "  </tbody>\n",
       "</table>\n",
       "</div>"
      ],
      "text/plain": [
       "   userId  gender  churn_cancellation  days_registered last_state  avg_songs  \\\n",
       "0  100010       1                   0             55.0         CT      39.29   \n",
       "1  200002       0                   0             70.0         WI      55.29   \n",
       "2     125       0                   1             72.0         TX       8.00   \n",
       "3     124       1                   0            131.0         NJ     127.47   \n",
       "4      51       0                   1             20.0         KY     162.38   \n",
       "\n",
       "   last_level  thumbs_up_count  thumbs_down_count  num_friends  \\\n",
       "0           0               17                  5            4   \n",
       "1           1               21                  6            4   \n",
       "2           0                0                  0            0   \n",
       "3           1              171                 41           74   \n",
       "4           1              100                 21           28   \n",
       "\n",
       "   avg_roll_advert  help_visit  error_visit  total_playlist  \n",
       "0             8.67    1.000000          0.0               7  \n",
       "1             1.75    1.000000          0.0               8  \n",
       "2             1.00    0.000000          0.0               0  \n",
       "3             1.00    1.437500          1.2             118  \n",
       "4             0.00    1.714286          1.0              52  "
      ]
     },
     "execution_count": 48,
     "metadata": {},
     "output_type": "execute_result"
    }
   ],
   "source": [
    "df_final.head()"
   ]
  },
  {
   "cell_type": "code",
   "execution_count": 49,
   "metadata": {},
   "outputs": [],
   "source": [
    "df_final.to_csv(\"final_data.csv\")"
   ]
  },
  {
   "cell_type": "markdown",
   "metadata": {},
   "source": [
    "##### Key Feures Identified\n",
    "1. Gender (F/M)                done\n",
    "2. level (Paid/free)           done      \n",
    "3. Event count                 \n",
    "4. Add friend                  done\n",
    "5. thumbs up proportion        done\n",
    "6. No. of errors (page count)  done\n",
    "7. add to playlist             done\n",
    "8. roll advert                 done\n",
    "9. location                    done\n",
    "10. avg help                   done\n",
    "11. avg mext song              done\n",
    "12. session count per day      \n",
    "13. session avg length\n",
    "14. avg session gap (???)\n",
    "15. unique song count\n",
    "16. unique song shares\n",
    "17. days since registrastion   "
   ]
  },
  {
   "cell_type": "code",
   "execution_count": 50,
   "metadata": {},
   "outputs": [
    {
     "data": {
      "text/html": [
       "<div>\n",
       "<style scoped>\n",
       "    .dataframe tbody tr th:only-of-type {\n",
       "        vertical-align: middle;\n",
       "    }\n",
       "\n",
       "    .dataframe tbody tr th {\n",
       "        vertical-align: top;\n",
       "    }\n",
       "\n",
       "    .dataframe thead th {\n",
       "        text-align: right;\n",
       "    }\n",
       "</style>\n",
       "<table border=\"1\" class=\"dataframe\">\n",
       "  <thead>\n",
       "    <tr style=\"text-align: right;\">\n",
       "      <th></th>\n",
       "      <th>Unnamed: 0</th>\n",
       "      <th>userId</th>\n",
       "      <th>gender</th>\n",
       "      <th>churn_cancellation</th>\n",
       "      <th>days_registered</th>\n",
       "      <th>last_state</th>\n",
       "      <th>avg_songs</th>\n",
       "      <th>last_level</th>\n",
       "      <th>thumbs_up_count</th>\n",
       "      <th>thumbs_down_count</th>\n",
       "      <th>num_friends</th>\n",
       "      <th>avg_roll_advert</th>\n",
       "      <th>help_visit</th>\n",
       "      <th>error_visit</th>\n",
       "      <th>total_playlist</th>\n",
       "    </tr>\n",
       "  </thead>\n",
       "  <tbody>\n",
       "    <tr>\n",
       "      <th>0</th>\n",
       "      <td>0</td>\n",
       "      <td>100010</td>\n",
       "      <td>1</td>\n",
       "      <td>0</td>\n",
       "      <td>55.0</td>\n",
       "      <td>CT</td>\n",
       "      <td>39.29</td>\n",
       "      <td>0</td>\n",
       "      <td>17</td>\n",
       "      <td>5</td>\n",
       "      <td>4</td>\n",
       "      <td>8.67</td>\n",
       "      <td>1.000000</td>\n",
       "      <td>0.0</td>\n",
       "      <td>7</td>\n",
       "    </tr>\n",
       "    <tr>\n",
       "      <th>1</th>\n",
       "      <td>1</td>\n",
       "      <td>200002</td>\n",
       "      <td>0</td>\n",
       "      <td>0</td>\n",
       "      <td>70.0</td>\n",
       "      <td>WI</td>\n",
       "      <td>55.29</td>\n",
       "      <td>1</td>\n",
       "      <td>21</td>\n",
       "      <td>6</td>\n",
       "      <td>4</td>\n",
       "      <td>1.75</td>\n",
       "      <td>1.000000</td>\n",
       "      <td>0.0</td>\n",
       "      <td>8</td>\n",
       "    </tr>\n",
       "    <tr>\n",
       "      <th>2</th>\n",
       "      <td>2</td>\n",
       "      <td>125</td>\n",
       "      <td>0</td>\n",
       "      <td>1</td>\n",
       "      <td>72.0</td>\n",
       "      <td>TX</td>\n",
       "      <td>8.00</td>\n",
       "      <td>0</td>\n",
       "      <td>0</td>\n",
       "      <td>0</td>\n",
       "      <td>0</td>\n",
       "      <td>1.00</td>\n",
       "      <td>0.000000</td>\n",
       "      <td>0.0</td>\n",
       "      <td>0</td>\n",
       "    </tr>\n",
       "    <tr>\n",
       "      <th>3</th>\n",
       "      <td>3</td>\n",
       "      <td>124</td>\n",
       "      <td>1</td>\n",
       "      <td>0</td>\n",
       "      <td>131.0</td>\n",
       "      <td>NJ</td>\n",
       "      <td>127.47</td>\n",
       "      <td>1</td>\n",
       "      <td>171</td>\n",
       "      <td>41</td>\n",
       "      <td>74</td>\n",
       "      <td>1.00</td>\n",
       "      <td>1.437500</td>\n",
       "      <td>1.2</td>\n",
       "      <td>118</td>\n",
       "    </tr>\n",
       "    <tr>\n",
       "      <th>4</th>\n",
       "      <td>4</td>\n",
       "      <td>51</td>\n",
       "      <td>0</td>\n",
       "      <td>1</td>\n",
       "      <td>20.0</td>\n",
       "      <td>KY</td>\n",
       "      <td>162.38</td>\n",
       "      <td>1</td>\n",
       "      <td>100</td>\n",
       "      <td>21</td>\n",
       "      <td>28</td>\n",
       "      <td>0.00</td>\n",
       "      <td>1.714286</td>\n",
       "      <td>1.0</td>\n",
       "      <td>52</td>\n",
       "    </tr>\n",
       "  </tbody>\n",
       "</table>\n",
       "</div>"
      ],
      "text/plain": [
       "   Unnamed: 0  userId  gender  churn_cancellation  days_registered last_state  \\\n",
       "0           0  100010       1                   0             55.0         CT   \n",
       "1           1  200002       0                   0             70.0         WI   \n",
       "2           2     125       0                   1             72.0         TX   \n",
       "3           3     124       1                   0            131.0         NJ   \n",
       "4           4      51       0                   1             20.0         KY   \n",
       "\n",
       "   avg_songs  last_level  thumbs_up_count  thumbs_down_count  num_friends  \\\n",
       "0      39.29           0               17                  5            4   \n",
       "1      55.29           1               21                  6            4   \n",
       "2       8.00           0                0                  0            0   \n",
       "3     127.47           1              171                 41           74   \n",
       "4     162.38           1              100                 21           28   \n",
       "\n",
       "   avg_roll_advert  help_visit  error_visit  total_playlist  \n",
       "0             8.67    1.000000          0.0               7  \n",
       "1             1.75    1.000000          0.0               8  \n",
       "2             1.00    0.000000          0.0               0  \n",
       "3             1.00    1.437500          1.2             118  \n",
       "4             0.00    1.714286          1.0              52  "
      ]
     },
     "execution_count": 50,
     "metadata": {},
     "output_type": "execute_result"
    }
   ],
   "source": [
    "df_final=pd.read_csv(\"final_data.csv\")\n",
    "df_final.head()"
   ]
  },
  {
   "cell_type": "code",
   "execution_count": 51,
   "metadata": {},
   "outputs": [
    {
     "data": {
      "text/plain": [
       "225"
      ]
     },
     "execution_count": 51,
     "metadata": {},
     "output_type": "execute_result"
    }
   ],
   "source": [
    "df_final.shape[0]"
   ]
  },
  {
   "cell_type": "code",
   "execution_count": 52,
   "metadata": {},
   "outputs": [
    {
     "data": {
      "text/plain": [
       "0    173\n",
       "1     52\n",
       "Name: churn_cancellation, dtype: int64"
      ]
     },
     "execution_count": 52,
     "metadata": {},
     "output_type": "execute_result"
    }
   ],
   "source": [
    "df_final.churn_cancellation.value_counts()"
   ]
  },
  {
   "cell_type": "code",
   "execution_count": 53,
   "metadata": {},
   "outputs": [
    {
     "data": {
      "text/plain": [
       "CA    33\n",
       "PA    18\n",
       "TX    16\n",
       "FL    14\n",
       "WI    10\n",
       "IL     9\n",
       "NC     9\n",
       "SC     8\n",
       "CT     7\n",
       "MD     7\n",
       "NH     7\n",
       "AZ     7\n",
       "IN     6\n",
       "WV     6\n",
       "WA     6\n",
       "AL     6\n",
       "NY     5\n",
       "MI     5\n",
       "GA     4\n",
       "CO     4\n",
       "OH     3\n",
       "NV     3\n",
       "MS     3\n",
       "KY     3\n",
       "NJ     3\n",
       "VA     3\n",
       "KS     2\n",
       "AK     2\n",
       "IA     2\n",
       "MT     2\n",
       "MA     2\n",
       "LA     2\n",
       "AR     2\n",
       "ID     1\n",
       "UT     1\n",
       "TN     1\n",
       "OR     1\n",
       "OK     1\n",
       "MO     1\n",
       "Name: last_state, dtype: int64"
      ]
     },
     "execution_count": 53,
     "metadata": {},
     "output_type": "execute_result"
    }
   ],
   "source": [
    "df_final.last_state.value_counts()\n",
    "# there is large variations and many states have very less customers \n",
    "# this is a sample of datasets but most likely same pattern will exost in entire dataset also\n",
    "# so grouping it into 4 columns - CA, PA, TX, FL, WI, AND OTHERS (FREQUENY LESS THAN 5 )"
   ]
  },
  {
   "cell_type": "code",
   "execution_count": 54,
   "metadata": {},
   "outputs": [
    {
     "name": "stdout",
     "output_type": "stream",
     "text": [
      "Others    46\n",
      "CA        33\n",
      "PA        18\n",
      "TX        16\n",
      "FL        14\n",
      "WI        10\n",
      "IL         9\n",
      "NC         9\n",
      "SC         8\n",
      "NH         7\n",
      "CT         7\n",
      "MD         7\n",
      "AZ         7\n",
      "WA         6\n",
      "IN         6\n",
      "AL         6\n",
      "WV         6\n",
      "NY         5\n",
      "MI         5\n",
      "Name: last_state, dtype: int64\n"
     ]
    }
   ],
   "source": [
    "state_counts = df_final.last_state.value_counts()\n",
    "\n",
    "# Define the threshold for grouping states\n",
    "threshold = 5\n",
    "\n",
    "# Get the list of states to be grouped as 'Others'\n",
    "states_to_group = state_counts[state_counts < threshold].index.tolist()\n",
    "\n",
    "# Replace the states with low counts with 'Others'\n",
    "df_final.loc[df_final['last_state'].isin(states_to_group), 'last_state'] = 'Others'\n",
    "\n",
    "# Check the updated value counts after grouping\n",
    "updated_state_counts = df_final['last_state'].value_counts()\n",
    "print(updated_state_counts)"
   ]
  },
  {
   "cell_type": "code",
   "execution_count": 55,
   "metadata": {},
   "outputs": [
    {
     "name": "stderr",
     "output_type": "stream",
     "text": [
      "/opt/conda/lib/python3.6/site-packages/IPython/core/interactiveshell.py:2961: UserWarning: To output multiple subplots, the figure containing the passed axes is being cleared\n",
      "  exec(code_obj, self.user_global_ns, self.user_ns)\n"
     ]
    },
    {
     "data": {
      "image/png": "[encoded data removed]",
      "text/plain": [
       "<matplotlib.figure.Figure at 0x7fb30daf4c18>"
      ]
     },
     "metadata": {
      "needs_background": "light"
     },
     "output_type": "display_data"
    }
   ],
   "source": [
    "fig = plt.figure(figsize=(30,25))\n",
    "ax = fig.gca()\n",
    "h = df_final.hist(ax=ax)"
   ]
  },
  {
   "cell_type": "code",
   "execution_count": 56,
   "metadata": {},
   "outputs": [],
   "source": [
    "data = df_final.copy()"
   ]
  },
  {
   "cell_type": "code",
   "execution_count": 57,
   "metadata": {},
   "outputs": [],
   "source": [
    "# ############### Feasture Selection ###############################\n",
    "\n",
    "# from sklearn.feature_selection import SelectKBest, f_regression\n",
    "# from sklearn.preprocessing import LabelEncoder\n",
    "\n",
    "# categorical_column = 'last_state'\n",
    "# le = LabelEncoder()\n",
    "# data[categorical_column] = le.fit_transform(data[categorical_column])\n",
    "\n",
    "# X = data.drop('churn_cancellation', axis=1)\n",
    "# y = data['churn_cancellation']\n",
    "\n",
    "# k = 5  # Number of top features to select\n",
    "# selector = SelectKBest(f_regression, k=k)\n",
    "# X_new = selector.fit_transform(X, y)\n",
    "\n",
    "# # Get the selected feature indices\n",
    "# selected_indices = selector.get_support(indices=True)\n",
    "\n",
    "# # Get the selected feature names\n",
    "# selected_features = X.columns[selected_indices]\n",
    "\n",
    "# # Print the selected features\n",
    "# print(\"Selected Features:\")\n",
    "# print(selected_features)"
   ]
  },
  {
   "cell_type": "code",
   "execution_count": 58,
   "metadata": {},
   "outputs": [
    {
     "name": "stdout",
     "output_type": "stream",
     "text": [
      "Selected Features:\n",
      "Index(['days_registered', 'thumbs_up_count', 'num_friends', 'avg_roll_advert',\n",
      "       'total_playlist'],\n",
      "      dtype='object')\n"
     ]
    }
   ],
   "source": [
    "import pandas as pd\n",
    "from sklearn.feature_selection import SelectKBest, f_regression\n",
    "from sklearn.preprocessing import OneHotEncoder\n",
    "\n",
    "\n",
    "# Perform one-hot encoding on the categorical column\n",
    "categorical_column = 'last_state'\n",
    "onehot_encoder = OneHotEncoder(sparse=False, handle_unknown='ignore')\n",
    "encoded_data = pd.get_dummies(data, columns=[categorical_column], prefix=[categorical_column])\n",
    "\n",
    "# Separate the target variable\n",
    "y = encoded_data['churn_cancellation']\n",
    "X = encoded_data.drop('churn_cancellation', axis=1)\n",
    "\n",
    "# Perform feature selection using SelectKBest and f_regression\n",
    "k = 5  # Number of top features to select\n",
    "selector = SelectKBest(f_regression, k=k)\n",
    "X_new = selector.fit_transform(X, y)\n",
    "\n",
    "# Get the selected feature indices\n",
    "selected_indices = selector.get_support(indices=True)\n",
    "\n",
    "# Get the selected feature names\n",
    "selected_features = X.columns[selected_indices]\n",
    "\n",
    "# Print the selected features\n",
    "print(\"Selected Features:\")\n",
    "print(selected_features)\n",
    "\n",
    "\n"
   ]
  },
  {
   "cell_type": "code",
   "execution_count": 59,
   "metadata": {},
   "outputs": [
    {
     "data": {
      "text/plain": [
       "Index(['Unnamed: 0', 'userId', 'gender', 'churn_cancellation',\n",
       "       'days_registered', 'avg_songs', 'last_level', 'thumbs_up_count',\n",
       "       'thumbs_down_count', 'num_friends', 'avg_roll_advert', 'help_visit',\n",
       "       'error_visit', 'total_playlist', 'last_state_AL', 'last_state_AZ',\n",
       "       'last_state_CA', 'last_state_CT', 'last_state_FL', 'last_state_IL',\n",
       "       'last_state_IN', 'last_state_MD', 'last_state_MI', 'last_state_NC',\n",
       "       'last_state_NH', 'last_state_NY', 'last_state_Others', 'last_state_PA',\n",
       "       'last_state_SC', 'last_state_TX', 'last_state_WA', 'last_state_WI',\n",
       "       'last_state_WV'],\n",
       "      dtype='object')"
      ]
     },
     "execution_count": 59,
     "metadata": {},
     "output_type": "execute_result"
    }
   ],
   "source": [
    "encoded_data.columns"
   ]
  },
  {
   "cell_type": "code",
   "execution_count": 60,
   "metadata": {},
   "outputs": [
    {
     "data": {
      "text/plain": [
       "Index(['Unnamed: 0', 'userId', 'gender', 'churn_cancellation',\n",
       "       'days_registered', 'last_state', 'avg_songs', 'last_level',\n",
       "       'thumbs_up_count', 'thumbs_down_count', 'num_friends',\n",
       "       'avg_roll_advert', 'help_visit', 'error_visit', 'total_playlist'],\n",
       "      dtype='object')"
      ]
     },
     "execution_count": 60,
     "metadata": {},
     "output_type": "execute_result"
    }
   ],
   "source": [
    "data.columns"
   ]
  },
  {
   "cell_type": "code",
   "execution_count": 61,
   "metadata": {},
   "outputs": [
    {
     "data": {
      "text/plain": [
       "<matplotlib.figure.Figure at 0x7fb30cf804e0>"
      ]
     },
     "metadata": {},
     "output_type": "display_data"
    },
    {
     "data": {
      "image/png": "[encoded data removed]",
      "text/plain": [
       "<matplotlib.figure.Figure at 0x7fb30d270b38>"
      ]
     },
     "metadata": {
      "needs_background": "light"
     },
     "output_type": "display_data"
    }
   ],
   "source": [
    "# Check correlation among features\n",
    "\n",
    "# creating mask\n",
    "mask = np.triu(np.ones_like(encoded_data.corr()))\n",
    " \n",
    "# plotting a triangle correlation heatmap\n",
    "plt.clf()\n",
    "plt.figure(figsize=(20, 18))\n",
    "dataplot = sns.heatmap(encoded_data.corr(), cmap=\"YlGnBu\", annot=True, mask=mask)\n",
    "\n",
    "# displaying heatmap\n",
    "plt.show()\n",
    "\n",
    "#%matplot plt"
   ]
  },
  {
   "cell_type": "code",
   "execution_count": 62,
   "metadata": {},
   "outputs": [],
   "source": [
    "df_final = df_final.drop(['Unnamed: 0'], axis=1)"
   ]
  },
  {
   "cell_type": "code",
   "execution_count": 63,
   "metadata": {},
   "outputs": [
    {
     "data": {
      "text/plain": [
       "Index(['userId', 'gender', 'churn_cancellation', 'days_registered',\n",
       "       'last_state', 'avg_songs', 'last_level', 'thumbs_up_count',\n",
       "       'thumbs_down_count', 'num_friends', 'avg_roll_advert', 'help_visit',\n",
       "       'error_visit', 'total_playlist'],\n",
       "      dtype='object')"
      ]
     },
     "execution_count": 63,
     "metadata": {},
     "output_type": "execute_result"
    }
   ],
   "source": [
    "df_final.columns"
   ]
  },
  {
   "cell_type": "code",
   "execution_count": 125,
   "metadata": {},
   "outputs": [],
   "source": [
    "# In final model dropping feature last_state as well"
   ]
  },
  {
   "cell_type": "code",
   "execution_count": 64,
   "metadata": {},
   "outputs": [
    {
     "data": {
      "text/html": [
       "<div>\n",
       "<style scoped>\n",
       "    .dataframe tbody tr th:only-of-type {\n",
       "        vertical-align: middle;\n",
       "    }\n",
       "\n",
       "    .dataframe tbody tr th {\n",
       "        vertical-align: top;\n",
       "    }\n",
       "\n",
       "    .dataframe thead th {\n",
       "        text-align: right;\n",
       "    }\n",
       "</style>\n",
       "<table border=\"1\" class=\"dataframe\">\n",
       "  <thead>\n",
       "    <tr style=\"text-align: right;\">\n",
       "      <th></th>\n",
       "      <th>userId</th>\n",
       "      <th>gender</th>\n",
       "      <th>churn_cancellation</th>\n",
       "      <th>days_registered</th>\n",
       "      <th>last_state</th>\n",
       "      <th>avg_songs</th>\n",
       "      <th>last_level</th>\n",
       "      <th>thumbs_up_count</th>\n",
       "      <th>thumbs_down_count</th>\n",
       "      <th>num_friends</th>\n",
       "      <th>avg_roll_advert</th>\n",
       "      <th>help_visit</th>\n",
       "      <th>error_visit</th>\n",
       "      <th>total_playlist</th>\n",
       "    </tr>\n",
       "  </thead>\n",
       "  <tbody>\n",
       "    <tr>\n",
       "      <th>0</th>\n",
       "      <td>100010</td>\n",
       "      <td>1</td>\n",
       "      <td>0</td>\n",
       "      <td>55.0</td>\n",
       "      <td>CT</td>\n",
       "      <td>39.29</td>\n",
       "      <td>0</td>\n",
       "      <td>17</td>\n",
       "      <td>5</td>\n",
       "      <td>4</td>\n",
       "      <td>8.67</td>\n",
       "      <td>1.000000</td>\n",
       "      <td>0.000000</td>\n",
       "      <td>7</td>\n",
       "    </tr>\n",
       "    <tr>\n",
       "      <th>1</th>\n",
       "      <td>200002</td>\n",
       "      <td>0</td>\n",
       "      <td>0</td>\n",
       "      <td>70.0</td>\n",
       "      <td>WI</td>\n",
       "      <td>55.29</td>\n",
       "      <td>1</td>\n",
       "      <td>21</td>\n",
       "      <td>6</td>\n",
       "      <td>4</td>\n",
       "      <td>1.75</td>\n",
       "      <td>1.000000</td>\n",
       "      <td>0.000000</td>\n",
       "      <td>8</td>\n",
       "    </tr>\n",
       "    <tr>\n",
       "      <th>2</th>\n",
       "      <td>125</td>\n",
       "      <td>0</td>\n",
       "      <td>1</td>\n",
       "      <td>72.0</td>\n",
       "      <td>TX</td>\n",
       "      <td>8.00</td>\n",
       "      <td>0</td>\n",
       "      <td>0</td>\n",
       "      <td>0</td>\n",
       "      <td>0</td>\n",
       "      <td>1.00</td>\n",
       "      <td>0.000000</td>\n",
       "      <td>0.000000</td>\n",
       "      <td>0</td>\n",
       "    </tr>\n",
       "    <tr>\n",
       "      <th>3</th>\n",
       "      <td>124</td>\n",
       "      <td>1</td>\n",
       "      <td>0</td>\n",
       "      <td>131.0</td>\n",
       "      <td>Others</td>\n",
       "      <td>127.47</td>\n",
       "      <td>1</td>\n",
       "      <td>171</td>\n",
       "      <td>41</td>\n",
       "      <td>74</td>\n",
       "      <td>1.00</td>\n",
       "      <td>1.437500</td>\n",
       "      <td>1.200000</td>\n",
       "      <td>118</td>\n",
       "    </tr>\n",
       "    <tr>\n",
       "      <th>4</th>\n",
       "      <td>51</td>\n",
       "      <td>0</td>\n",
       "      <td>1</td>\n",
       "      <td>20.0</td>\n",
       "      <td>Others</td>\n",
       "      <td>162.38</td>\n",
       "      <td>1</td>\n",
       "      <td>100</td>\n",
       "      <td>21</td>\n",
       "      <td>28</td>\n",
       "      <td>0.00</td>\n",
       "      <td>1.714286</td>\n",
       "      <td>1.000000</td>\n",
       "      <td>52</td>\n",
       "    </tr>\n",
       "    <tr>\n",
       "      <th>5</th>\n",
       "      <td>7</td>\n",
       "      <td>0</td>\n",
       "      <td>0</td>\n",
       "      <td>73.0</td>\n",
       "      <td>WA</td>\n",
       "      <td>18.75</td>\n",
       "      <td>0</td>\n",
       "      <td>7</td>\n",
       "      <td>1</td>\n",
       "      <td>1</td>\n",
       "      <td>3.20</td>\n",
       "      <td>1.000000</td>\n",
       "      <td>1.000000</td>\n",
       "      <td>5</td>\n",
       "    </tr>\n",
       "    <tr>\n",
       "      <th>6</th>\n",
       "      <td>15</td>\n",
       "      <td>0</td>\n",
       "      <td>0</td>\n",
       "      <td>57.0</td>\n",
       "      <td>WV</td>\n",
       "      <td>100.74</td>\n",
       "      <td>1</td>\n",
       "      <td>81</td>\n",
       "      <td>14</td>\n",
       "      <td>31</td>\n",
       "      <td>1.00</td>\n",
       "      <td>1.142857</td>\n",
       "      <td>1.000000</td>\n",
       "      <td>59</td>\n",
       "    </tr>\n",
       "    <tr>\n",
       "      <th>7</th>\n",
       "      <td>54</td>\n",
       "      <td>1</td>\n",
       "      <td>1</td>\n",
       "      <td>110.0</td>\n",
       "      <td>WA</td>\n",
       "      <td>94.70</td>\n",
       "      <td>1</td>\n",
       "      <td>163</td>\n",
       "      <td>29</td>\n",
       "      <td>33</td>\n",
       "      <td>3.62</td>\n",
       "      <td>1.133333</td>\n",
       "      <td>1.000000</td>\n",
       "      <td>72</td>\n",
       "    </tr>\n",
       "    <tr>\n",
       "      <th>8</th>\n",
       "      <td>155</td>\n",
       "      <td>1</td>\n",
       "      <td>0</td>\n",
       "      <td>24.0</td>\n",
       "      <td>NH</td>\n",
       "      <td>102.50</td>\n",
       "      <td>1</td>\n",
       "      <td>58</td>\n",
       "      <td>3</td>\n",
       "      <td>11</td>\n",
       "      <td>4.00</td>\n",
       "      <td>1.800000</td>\n",
       "      <td>1.000000</td>\n",
       "      <td>24</td>\n",
       "    </tr>\n",
       "    <tr>\n",
       "      <th>9</th>\n",
       "      <td>100014</td>\n",
       "      <td>0</td>\n",
       "      <td>1</td>\n",
       "      <td>85.0</td>\n",
       "      <td>PA</td>\n",
       "      <td>42.83</td>\n",
       "      <td>1</td>\n",
       "      <td>17</td>\n",
       "      <td>3</td>\n",
       "      <td>6</td>\n",
       "      <td>1.00</td>\n",
       "      <td>1.000000</td>\n",
       "      <td>0.000000</td>\n",
       "      <td>7</td>\n",
       "    </tr>\n",
       "    <tr>\n",
       "      <th>10</th>\n",
       "      <td>132</td>\n",
       "      <td>1</td>\n",
       "      <td>0</td>\n",
       "      <td>67.0</td>\n",
       "      <td>Others</td>\n",
       "      <td>91.81</td>\n",
       "      <td>1</td>\n",
       "      <td>96</td>\n",
       "      <td>17</td>\n",
       "      <td>41</td>\n",
       "      <td>1.00</td>\n",
       "      <td>1.777778</td>\n",
       "      <td>1.000000</td>\n",
       "      <td>38</td>\n",
       "    </tr>\n",
       "    <tr>\n",
       "      <th>11</th>\n",
       "      <td>154</td>\n",
       "      <td>1</td>\n",
       "      <td>0</td>\n",
       "      <td>24.0</td>\n",
       "      <td>PA</td>\n",
       "      <td>28.00</td>\n",
       "      <td>0</td>\n",
       "      <td>11</td>\n",
       "      <td>0</td>\n",
       "      <td>3</td>\n",
       "      <td>3.33</td>\n",
       "      <td>1.000000</td>\n",
       "      <td>0.000000</td>\n",
       "      <td>1</td>\n",
       "    </tr>\n",
       "    <tr>\n",
       "      <th>12</th>\n",
       "      <td>101</td>\n",
       "      <td>0</td>\n",
       "      <td>1</td>\n",
       "      <td>54.0</td>\n",
       "      <td>Others</td>\n",
       "      <td>138.23</td>\n",
       "      <td>1</td>\n",
       "      <td>86</td>\n",
       "      <td>16</td>\n",
       "      <td>29</td>\n",
       "      <td>4.00</td>\n",
       "      <td>1.714286</td>\n",
       "      <td>1.500000</td>\n",
       "      <td>61</td>\n",
       "    </tr>\n",
       "    <tr>\n",
       "      <th>13</th>\n",
       "      <td>11</td>\n",
       "      <td>1</td>\n",
       "      <td>0</td>\n",
       "      <td>125.0</td>\n",
       "      <td>Others</td>\n",
       "      <td>40.44</td>\n",
       "      <td>1</td>\n",
       "      <td>40</td>\n",
       "      <td>9</td>\n",
       "      <td>6</td>\n",
       "      <td>3.25</td>\n",
       "      <td>1.500000</td>\n",
       "      <td>1.000000</td>\n",
       "      <td>20</td>\n",
       "    </tr>\n",
       "    <tr>\n",
       "      <th>14</th>\n",
       "      <td>138</td>\n",
       "      <td>0</td>\n",
       "      <td>0</td>\n",
       "      <td>66.0</td>\n",
       "      <td>PA</td>\n",
       "      <td>121.76</td>\n",
       "      <td>1</td>\n",
       "      <td>95</td>\n",
       "      <td>24</td>\n",
       "      <td>41</td>\n",
       "      <td>2.83</td>\n",
       "      <td>1.857143</td>\n",
       "      <td>1.000000</td>\n",
       "      <td>67</td>\n",
       "    </tr>\n",
       "    <tr>\n",
       "      <th>15</th>\n",
       "      <td>300017</td>\n",
       "      <td>1</td>\n",
       "      <td>0</td>\n",
       "      <td>74.0</td>\n",
       "      <td>MI</td>\n",
       "      <td>75.67</td>\n",
       "      <td>1</td>\n",
       "      <td>303</td>\n",
       "      <td>28</td>\n",
       "      <td>63</td>\n",
       "      <td>1.22</td>\n",
       "      <td>1.350000</td>\n",
       "      <td>1.250000</td>\n",
       "      <td>113</td>\n",
       "    </tr>\n",
       "    <tr>\n",
       "      <th>16</th>\n",
       "      <td>100021</td>\n",
       "      <td>0</td>\n",
       "      <td>1</td>\n",
       "      <td>65.0</td>\n",
       "      <td>TX</td>\n",
       "      <td>46.00</td>\n",
       "      <td>0</td>\n",
       "      <td>11</td>\n",
       "      <td>5</td>\n",
       "      <td>7</td>\n",
       "      <td>6.00</td>\n",
       "      <td>0.000000</td>\n",
       "      <td>1.000000</td>\n",
       "      <td>7</td>\n",
       "    </tr>\n",
       "    <tr>\n",
       "      <th>17</th>\n",
       "      <td>29</td>\n",
       "      <td>0</td>\n",
       "      <td>1</td>\n",
       "      <td>60.0</td>\n",
       "      <td>CA</td>\n",
       "      <td>104.41</td>\n",
       "      <td>1</td>\n",
       "      <td>154</td>\n",
       "      <td>22</td>\n",
       "      <td>47</td>\n",
       "      <td>2.00</td>\n",
       "      <td>1.555556</td>\n",
       "      <td>0.000000</td>\n",
       "      <td>89</td>\n",
       "    </tr>\n",
       "    <tr>\n",
       "      <th>18</th>\n",
       "      <td>69</td>\n",
       "      <td>1</td>\n",
       "      <td>0</td>\n",
       "      <td>71.0</td>\n",
       "      <td>WI</td>\n",
       "      <td>93.75</td>\n",
       "      <td>1</td>\n",
       "      <td>72</td>\n",
       "      <td>9</td>\n",
       "      <td>12</td>\n",
       "      <td>1.50</td>\n",
       "      <td>2.333333</td>\n",
       "      <td>1.333333</td>\n",
       "      <td>33</td>\n",
       "    </tr>\n",
       "    <tr>\n",
       "      <th>19</th>\n",
       "      <td>112</td>\n",
       "      <td>0</td>\n",
       "      <td>0</td>\n",
       "      <td>87.0</td>\n",
       "      <td>IN</td>\n",
       "      <td>30.71</td>\n",
       "      <td>0</td>\n",
       "      <td>9</td>\n",
       "      <td>3</td>\n",
       "      <td>7</td>\n",
       "      <td>3.00</td>\n",
       "      <td>1.000000</td>\n",
       "      <td>0.000000</td>\n",
       "      <td>7</td>\n",
       "    </tr>\n",
       "    <tr>\n",
       "      <th>20</th>\n",
       "      <td>42</td>\n",
       "      <td>1</td>\n",
       "      <td>0</td>\n",
       "      <td>67.0</td>\n",
       "      <td>Others</td>\n",
       "      <td>87.15</td>\n",
       "      <td>1</td>\n",
       "      <td>166</td>\n",
       "      <td>25</td>\n",
       "      <td>52</td>\n",
       "      <td>2.00</td>\n",
       "      <td>1.176471</td>\n",
       "      <td>1.000000</td>\n",
       "      <td>104</td>\n",
       "    </tr>\n",
       "    <tr>\n",
       "      <th>21</th>\n",
       "      <td>73</td>\n",
       "      <td>1</td>\n",
       "      <td>1</td>\n",
       "      <td>50.0</td>\n",
       "      <td>NY</td>\n",
       "      <td>75.40</td>\n",
       "      <td>1</td>\n",
       "      <td>14</td>\n",
       "      <td>7</td>\n",
       "      <td>11</td>\n",
       "      <td>1.00</td>\n",
       "      <td>1.333333</td>\n",
       "      <td>1.000000</td>\n",
       "      <td>11</td>\n",
       "    </tr>\n",
       "    <tr>\n",
       "      <th>22</th>\n",
       "      <td>87</td>\n",
       "      <td>0</td>\n",
       "      <td>1</td>\n",
       "      <td>59.0</td>\n",
       "      <td>Others</td>\n",
       "      <td>47.94</td>\n",
       "      <td>1</td>\n",
       "      <td>32</td>\n",
       "      <td>5</td>\n",
       "      <td>27</td>\n",
       "      <td>4.17</td>\n",
       "      <td>1.600000</td>\n",
       "      <td>0.000000</td>\n",
       "      <td>19</td>\n",
       "    </tr>\n",
       "    <tr>\n",
       "      <th>23</th>\n",
       "      <td>200010</td>\n",
       "      <td>1</td>\n",
       "      <td>0</td>\n",
       "      <td>38.0</td>\n",
       "      <td>Others</td>\n",
       "      <td>47.40</td>\n",
       "      <td>0</td>\n",
       "      <td>14</td>\n",
       "      <td>7</td>\n",
       "      <td>8</td>\n",
       "      <td>4.25</td>\n",
       "      <td>1.000000</td>\n",
       "      <td>1.000000</td>\n",
       "      <td>5</td>\n",
       "    </tr>\n",
       "    <tr>\n",
       "      <th>24</th>\n",
       "      <td>64</td>\n",
       "      <td>0</td>\n",
       "      <td>0</td>\n",
       "      <td>49.0</td>\n",
       "      <td>TX</td>\n",
       "      <td>15.33</td>\n",
       "      <td>0</td>\n",
       "      <td>4</td>\n",
       "      <td>0</td>\n",
       "      <td>5</td>\n",
       "      <td>1.00</td>\n",
       "      <td>1.000000</td>\n",
       "      <td>0.000000</td>\n",
       "      <td>1</td>\n",
       "    </tr>\n",
       "    <tr>\n",
       "      <th>25</th>\n",
       "      <td>3</td>\n",
       "      <td>0</td>\n",
       "      <td>1</td>\n",
       "      <td>81.0</td>\n",
       "      <td>Others</td>\n",
       "      <td>42.80</td>\n",
       "      <td>1</td>\n",
       "      <td>14</td>\n",
       "      <td>3</td>\n",
       "      <td>1</td>\n",
       "      <td>1.00</td>\n",
       "      <td>1.000000</td>\n",
       "      <td>0.000000</td>\n",
       "      <td>4</td>\n",
       "    </tr>\n",
       "    <tr>\n",
       "      <th>26</th>\n",
       "      <td>113</td>\n",
       "      <td>1</td>\n",
       "      <td>0</td>\n",
       "      <td>123.0</td>\n",
       "      <td>SC</td>\n",
       "      <td>68.91</td>\n",
       "      <td>1</td>\n",
       "      <td>82</td>\n",
       "      <td>12</td>\n",
       "      <td>32</td>\n",
       "      <td>1.00</td>\n",
       "      <td>1.400000</td>\n",
       "      <td>1.000000</td>\n",
       "      <td>50</td>\n",
       "    </tr>\n",
       "    <tr>\n",
       "      <th>27</th>\n",
       "      <td>30</td>\n",
       "      <td>0</td>\n",
       "      <td>0</td>\n",
       "      <td>63.0</td>\n",
       "      <td>CA</td>\n",
       "      <td>61.61</td>\n",
       "      <td>1</td>\n",
       "      <td>62</td>\n",
       "      <td>17</td>\n",
       "      <td>25</td>\n",
       "      <td>4.00</td>\n",
       "      <td>1.000000</td>\n",
       "      <td>1.000000</td>\n",
       "      <td>47</td>\n",
       "    </tr>\n",
       "    <tr>\n",
       "      <th>28</th>\n",
       "      <td>34</td>\n",
       "      <td>0</td>\n",
       "      <td>0</td>\n",
       "      <td>71.0</td>\n",
       "      <td>FL</td>\n",
       "      <td>13.25</td>\n",
       "      <td>0</td>\n",
       "      <td>2</td>\n",
       "      <td>0</td>\n",
       "      <td>0</td>\n",
       "      <td>1.50</td>\n",
       "      <td>0.000000</td>\n",
       "      <td>0.000000</td>\n",
       "      <td>4</td>\n",
       "    </tr>\n",
       "    <tr>\n",
       "      <th>29</th>\n",
       "      <td>133</td>\n",
       "      <td>0</td>\n",
       "      <td>0</td>\n",
       "      <td>40.0</td>\n",
       "      <td>CA</td>\n",
       "      <td>32.00</td>\n",
       "      <td>0</td>\n",
       "      <td>2</td>\n",
       "      <td>0</td>\n",
       "      <td>1</td>\n",
       "      <td>1.00</td>\n",
       "      <td>0.000000</td>\n",
       "      <td>0.000000</td>\n",
       "      <td>3</td>\n",
       "    </tr>\n",
       "    <tr>\n",
       "      <th>...</th>\n",
       "      <td>...</td>\n",
       "      <td>...</td>\n",
       "      <td>...</td>\n",
       "      <td>...</td>\n",
       "      <td>...</td>\n",
       "      <td>...</td>\n",
       "      <td>...</td>\n",
       "      <td>...</td>\n",
       "      <td>...</td>\n",
       "      <td>...</td>\n",
       "      <td>...</td>\n",
       "      <td>...</td>\n",
       "      <td>...</td>\n",
       "      <td>...</td>\n",
       "    </tr>\n",
       "    <tr>\n",
       "      <th>195</th>\n",
       "      <td>83</td>\n",
       "      <td>0</td>\n",
       "      <td>0</td>\n",
       "      <td>124.0</td>\n",
       "      <td>Others</td>\n",
       "      <td>56.14</td>\n",
       "      <td>1</td>\n",
       "      <td>69</td>\n",
       "      <td>10</td>\n",
       "      <td>18</td>\n",
       "      <td>2.11</td>\n",
       "      <td>1.250000</td>\n",
       "      <td>1.500000</td>\n",
       "      <td>28</td>\n",
       "    </tr>\n",
       "    <tr>\n",
       "      <th>196</th>\n",
       "      <td>109</td>\n",
       "      <td>1</td>\n",
       "      <td>0</td>\n",
       "      <td>88.0</td>\n",
       "      <td>IL</td>\n",
       "      <td>59.75</td>\n",
       "      <td>0</td>\n",
       "      <td>23</td>\n",
       "      <td>5</td>\n",
       "      <td>12</td>\n",
       "      <td>1.40</td>\n",
       "      <td>2.000000</td>\n",
       "      <td>0.000000</td>\n",
       "      <td>16</td>\n",
       "    </tr>\n",
       "    <tr>\n",
       "      <th>197</th>\n",
       "      <td>123</td>\n",
       "      <td>0</td>\n",
       "      <td>0</td>\n",
       "      <td>101.0</td>\n",
       "      <td>FL</td>\n",
       "      <td>21.43</td>\n",
       "      <td>0</td>\n",
       "      <td>5</td>\n",
       "      <td>1</td>\n",
       "      <td>5</td>\n",
       "      <td>2.80</td>\n",
       "      <td>1.000000</td>\n",
       "      <td>0.000000</td>\n",
       "      <td>8</td>\n",
       "    </tr>\n",
       "    <tr>\n",
       "      <th>198</th>\n",
       "      <td>200022</td>\n",
       "      <td>0</td>\n",
       "      <td>0</td>\n",
       "      <td>89.0</td>\n",
       "      <td>IL</td>\n",
       "      <td>43.50</td>\n",
       "      <td>0</td>\n",
       "      <td>16</td>\n",
       "      <td>10</td>\n",
       "      <td>6</td>\n",
       "      <td>8.50</td>\n",
       "      <td>1.000000</td>\n",
       "      <td>1.000000</td>\n",
       "      <td>5</td>\n",
       "    </tr>\n",
       "    <tr>\n",
       "      <th>199</th>\n",
       "      <td>13</td>\n",
       "      <td>1</td>\n",
       "      <td>0</td>\n",
       "      <td>119.0</td>\n",
       "      <td>MD</td>\n",
       "      <td>49.23</td>\n",
       "      <td>0</td>\n",
       "      <td>57</td>\n",
       "      <td>14</td>\n",
       "      <td>32</td>\n",
       "      <td>3.70</td>\n",
       "      <td>1.333333</td>\n",
       "      <td>0.000000</td>\n",
       "      <td>37</td>\n",
       "    </tr>\n",
       "    <tr>\n",
       "      <th>200</th>\n",
       "      <td>200019</td>\n",
       "      <td>0</td>\n",
       "      <td>0</td>\n",
       "      <td>56.0</td>\n",
       "      <td>CA</td>\n",
       "      <td>49.50</td>\n",
       "      <td>0</td>\n",
       "      <td>28</td>\n",
       "      <td>17</td>\n",
       "      <td>8</td>\n",
       "      <td>2.50</td>\n",
       "      <td>1.000000</td>\n",
       "      <td>0.000000</td>\n",
       "      <td>18</td>\n",
       "    </tr>\n",
       "    <tr>\n",
       "      <th>201</th>\n",
       "      <td>14</td>\n",
       "      <td>0</td>\n",
       "      <td>0</td>\n",
       "      <td>132.0</td>\n",
       "      <td>NY</td>\n",
       "      <td>94.62</td>\n",
       "      <td>1</td>\n",
       "      <td>54</td>\n",
       "      <td>12</td>\n",
       "      <td>19</td>\n",
       "      <td>1.00</td>\n",
       "      <td>1.250000</td>\n",
       "      <td>1.000000</td>\n",
       "      <td>34</td>\n",
       "    </tr>\n",
       "    <tr>\n",
       "      <th>202</th>\n",
       "      <td>21</td>\n",
       "      <td>0</td>\n",
       "      <td>0</td>\n",
       "      <td>69.0</td>\n",
       "      <td>IL</td>\n",
       "      <td>99.80</td>\n",
       "      <td>1</td>\n",
       "      <td>27</td>\n",
       "      <td>2</td>\n",
       "      <td>8</td>\n",
       "      <td>0.00</td>\n",
       "      <td>2.000000</td>\n",
       "      <td>1.000000</td>\n",
       "      <td>9</td>\n",
       "    </tr>\n",
       "    <tr>\n",
       "      <th>203</th>\n",
       "      <td>66</td>\n",
       "      <td>1</td>\n",
       "      <td>0</td>\n",
       "      <td>126.0</td>\n",
       "      <td>CA</td>\n",
       "      <td>47.50</td>\n",
       "      <td>1</td>\n",
       "      <td>52</td>\n",
       "      <td>8</td>\n",
       "      <td>24</td>\n",
       "      <td>3.89</td>\n",
       "      <td>1.000000</td>\n",
       "      <td>0.000000</td>\n",
       "      <td>38</td>\n",
       "    </tr>\n",
       "    <tr>\n",
       "      <th>204</th>\n",
       "      <td>91</td>\n",
       "      <td>0</td>\n",
       "      <td>0</td>\n",
       "      <td>116.0</td>\n",
       "      <td>CT</td>\n",
       "      <td>151.76</td>\n",
       "      <td>1</td>\n",
       "      <td>124</td>\n",
       "      <td>24</td>\n",
       "      <td>42</td>\n",
       "      <td>2.50</td>\n",
       "      <td>1.285714</td>\n",
       "      <td>1.500000</td>\n",
       "      <td>64</td>\n",
       "    </tr>\n",
       "    <tr>\n",
       "      <th>205</th>\n",
       "      <td>94</td>\n",
       "      <td>1</td>\n",
       "      <td>0</td>\n",
       "      <td>133.0</td>\n",
       "      <td>Others</td>\n",
       "      <td>24.33</td>\n",
       "      <td>0</td>\n",
       "      <td>4</td>\n",
       "      <td>1</td>\n",
       "      <td>1</td>\n",
       "      <td>2.00</td>\n",
       "      <td>0.000000</td>\n",
       "      <td>0.000000</td>\n",
       "      <td>3</td>\n",
       "    </tr>\n",
       "    <tr>\n",
       "      <th>206</th>\n",
       "      <td>137</td>\n",
       "      <td>0</td>\n",
       "      <td>0</td>\n",
       "      <td>124.0</td>\n",
       "      <td>PA</td>\n",
       "      <td>38.50</td>\n",
       "      <td>1</td>\n",
       "      <td>8</td>\n",
       "      <td>1</td>\n",
       "      <td>8</td>\n",
       "      <td>3.33</td>\n",
       "      <td>1.000000</td>\n",
       "      <td>0.000000</td>\n",
       "      <td>4</td>\n",
       "    </tr>\n",
       "    <tr>\n",
       "      <th>207</th>\n",
       "      <td>72</td>\n",
       "      <td>1</td>\n",
       "      <td>0</td>\n",
       "      <td>124.0</td>\n",
       "      <td>FL</td>\n",
       "      <td>85.00</td>\n",
       "      <td>0</td>\n",
       "      <td>6</td>\n",
       "      <td>1</td>\n",
       "      <td>3</td>\n",
       "      <td>10.00</td>\n",
       "      <td>0.000000</td>\n",
       "      <td>1.000000</td>\n",
       "      <td>3</td>\n",
       "    </tr>\n",
       "    <tr>\n",
       "      <th>208</th>\n",
       "      <td>74</td>\n",
       "      <td>1</td>\n",
       "      <td>0</td>\n",
       "      <td>71.0</td>\n",
       "      <td>FL</td>\n",
       "      <td>104.35</td>\n",
       "      <td>1</td>\n",
       "      <td>135</td>\n",
       "      <td>25</td>\n",
       "      <td>43</td>\n",
       "      <td>3.14</td>\n",
       "      <td>1.857143</td>\n",
       "      <td>1.000000</td>\n",
       "      <td>80</td>\n",
       "    </tr>\n",
       "    <tr>\n",
       "      <th>209</th>\n",
       "      <td>300016</td>\n",
       "      <td>0</td>\n",
       "      <td>0</td>\n",
       "      <td>101.0</td>\n",
       "      <td>WI</td>\n",
       "      <td>48.58</td>\n",
       "      <td>1</td>\n",
       "      <td>56</td>\n",
       "      <td>4</td>\n",
       "      <td>11</td>\n",
       "      <td>2.00</td>\n",
       "      <td>0.000000</td>\n",
       "      <td>1.000000</td>\n",
       "      <td>26</td>\n",
       "    </tr>\n",
       "    <tr>\n",
       "      <th>210</th>\n",
       "      <td>151</td>\n",
       "      <td>0</td>\n",
       "      <td>0</td>\n",
       "      <td>42.0</td>\n",
       "      <td>WV</td>\n",
       "      <td>138.00</td>\n",
       "      <td>1</td>\n",
       "      <td>4</td>\n",
       "      <td>1</td>\n",
       "      <td>3</td>\n",
       "      <td>0.00</td>\n",
       "      <td>1.000000</td>\n",
       "      <td>0.000000</td>\n",
       "      <td>2</td>\n",
       "    </tr>\n",
       "    <tr>\n",
       "      <th>211</th>\n",
       "      <td>200015</td>\n",
       "      <td>0</td>\n",
       "      <td>1</td>\n",
       "      <td>88.0</td>\n",
       "      <td>CA</td>\n",
       "      <td>28.67</td>\n",
       "      <td>0</td>\n",
       "      <td>10</td>\n",
       "      <td>10</td>\n",
       "      <td>2</td>\n",
       "      <td>3.14</td>\n",
       "      <td>1.000000</td>\n",
       "      <td>1.000000</td>\n",
       "      <td>13</td>\n",
       "    </tr>\n",
       "    <tr>\n",
       "      <th>212</th>\n",
       "      <td>129</td>\n",
       "      <td>0</td>\n",
       "      <td>1</td>\n",
       "      <td>17.0</td>\n",
       "      <td>MI</td>\n",
       "      <td>55.17</td>\n",
       "      <td>1</td>\n",
       "      <td>7</td>\n",
       "      <td>7</td>\n",
       "      <td>11</td>\n",
       "      <td>1.00</td>\n",
       "      <td>2.000000</td>\n",
       "      <td>1.000000</td>\n",
       "      <td>11</td>\n",
       "    </tr>\n",
       "    <tr>\n",
       "      <th>213</th>\n",
       "      <td>76</td>\n",
       "      <td>0</td>\n",
       "      <td>0</td>\n",
       "      <td>57.0</td>\n",
       "      <td>CA</td>\n",
       "      <td>30.29</td>\n",
       "      <td>0</td>\n",
       "      <td>13</td>\n",
       "      <td>2</td>\n",
       "      <td>3</td>\n",
       "      <td>2.50</td>\n",
       "      <td>1.000000</td>\n",
       "      <td>1.000000</td>\n",
       "      <td>4</td>\n",
       "    </tr>\n",
       "    <tr>\n",
       "      <th>214</th>\n",
       "      <td>2</td>\n",
       "      <td>1</td>\n",
       "      <td>0</td>\n",
       "      <td>69.0</td>\n",
       "      <td>NC</td>\n",
       "      <td>83.89</td>\n",
       "      <td>1</td>\n",
       "      <td>29</td>\n",
       "      <td>6</td>\n",
       "      <td>20</td>\n",
       "      <td>0.00</td>\n",
       "      <td>1.000000</td>\n",
       "      <td>0.000000</td>\n",
       "      <td>13</td>\n",
       "    </tr>\n",
       "    <tr>\n",
       "      <th>215</th>\n",
       "      <td>100002</td>\n",
       "      <td>1</td>\n",
       "      <td>0</td>\n",
       "      <td>161.0</td>\n",
       "      <td>CA</td>\n",
       "      <td>39.00</td>\n",
       "      <td>1</td>\n",
       "      <td>5</td>\n",
       "      <td>0</td>\n",
       "      <td>1</td>\n",
       "      <td>1.00</td>\n",
       "      <td>0.000000</td>\n",
       "      <td>0.000000</td>\n",
       "      <td>5</td>\n",
       "    </tr>\n",
       "    <tr>\n",
       "      <th>216</th>\n",
       "      <td>100018</td>\n",
       "      <td>0</td>\n",
       "      <td>0</td>\n",
       "      <td>111.0</td>\n",
       "      <td>TX</td>\n",
       "      <td>52.74</td>\n",
       "      <td>0</td>\n",
       "      <td>46</td>\n",
       "      <td>9</td>\n",
       "      <td>23</td>\n",
       "      <td>8.00</td>\n",
       "      <td>1.166667</td>\n",
       "      <td>0.000000</td>\n",
       "      <td>31</td>\n",
       "    </tr>\n",
       "    <tr>\n",
       "      <th>217</th>\n",
       "      <td>80</td>\n",
       "      <td>1</td>\n",
       "      <td>0</td>\n",
       "      <td>59.0</td>\n",
       "      <td>CA</td>\n",
       "      <td>26.21</td>\n",
       "      <td>0</td>\n",
       "      <td>11</td>\n",
       "      <td>4</td>\n",
       "      <td>9</td>\n",
       "      <td>2.00</td>\n",
       "      <td>1.333333</td>\n",
       "      <td>0.000000</td>\n",
       "      <td>13</td>\n",
       "    </tr>\n",
       "    <tr>\n",
       "      <th>218</th>\n",
       "      <td>145</td>\n",
       "      <td>1</td>\n",
       "      <td>0</td>\n",
       "      <td>102.0</td>\n",
       "      <td>PA</td>\n",
       "      <td>75.27</td>\n",
       "      <td>1</td>\n",
       "      <td>61</td>\n",
       "      <td>8</td>\n",
       "      <td>34</td>\n",
       "      <td>0.00</td>\n",
       "      <td>1.000000</td>\n",
       "      <td>0.000000</td>\n",
       "      <td>27</td>\n",
       "    </tr>\n",
       "    <tr>\n",
       "      <th>219</th>\n",
       "      <td>50</td>\n",
       "      <td>1</td>\n",
       "      <td>0</td>\n",
       "      <td>75.0</td>\n",
       "      <td>Others</td>\n",
       "      <td>62.88</td>\n",
       "      <td>1</td>\n",
       "      <td>27</td>\n",
       "      <td>3</td>\n",
       "      <td>9</td>\n",
       "      <td>5.29</td>\n",
       "      <td>2.333333</td>\n",
       "      <td>1.000000</td>\n",
       "      <td>12</td>\n",
       "    </tr>\n",
       "    <tr>\n",
       "      <th>220</th>\n",
       "      <td>45</td>\n",
       "      <td>1</td>\n",
       "      <td>0</td>\n",
       "      <td>81.0</td>\n",
       "      <td>Others</td>\n",
       "      <td>74.20</td>\n",
       "      <td>1</td>\n",
       "      <td>67</td>\n",
       "      <td>13</td>\n",
       "      <td>22</td>\n",
       "      <td>1.86</td>\n",
       "      <td>1.000000</td>\n",
       "      <td>0.000000</td>\n",
       "      <td>43</td>\n",
       "    </tr>\n",
       "    <tr>\n",
       "      <th>221</th>\n",
       "      <td>57</td>\n",
       "      <td>0</td>\n",
       "      <td>0</td>\n",
       "      <td>88.0</td>\n",
       "      <td>CA</td>\n",
       "      <td>46.00</td>\n",
       "      <td>0</td>\n",
       "      <td>3</td>\n",
       "      <td>2</td>\n",
       "      <td>0</td>\n",
       "      <td>6.00</td>\n",
       "      <td>1.000000</td>\n",
       "      <td>0.000000</td>\n",
       "      <td>0</td>\n",
       "    </tr>\n",
       "    <tr>\n",
       "      <th>222</th>\n",
       "      <td>200021</td>\n",
       "      <td>1</td>\n",
       "      <td>1</td>\n",
       "      <td>71.0</td>\n",
       "      <td>MI</td>\n",
       "      <td>68.17</td>\n",
       "      <td>1</td>\n",
       "      <td>55</td>\n",
       "      <td>35</td>\n",
       "      <td>19</td>\n",
       "      <td>1.57</td>\n",
       "      <td>1.000000</td>\n",
       "      <td>1.000000</td>\n",
       "      <td>30</td>\n",
       "    </tr>\n",
       "    <tr>\n",
       "      <th>223</th>\n",
       "      <td>119</td>\n",
       "      <td>1</td>\n",
       "      <td>0</td>\n",
       "      <td>189.0</td>\n",
       "      <td>SC</td>\n",
       "      <td>24.71</td>\n",
       "      <td>0</td>\n",
       "      <td>7</td>\n",
       "      <td>1</td>\n",
       "      <td>4</td>\n",
       "      <td>1.80</td>\n",
       "      <td>3.000000</td>\n",
       "      <td>1.000000</td>\n",
       "      <td>5</td>\n",
       "    </tr>\n",
       "    <tr>\n",
       "      <th>224</th>\n",
       "      <td>100001</td>\n",
       "      <td>1</td>\n",
       "      <td>1</td>\n",
       "      <td>45.0</td>\n",
       "      <td>FL</td>\n",
       "      <td>66.50</td>\n",
       "      <td>0</td>\n",
       "      <td>8</td>\n",
       "      <td>2</td>\n",
       "      <td>2</td>\n",
       "      <td>7.00</td>\n",
       "      <td>1.000000</td>\n",
       "      <td>1.000000</td>\n",
       "      <td>3</td>\n",
       "    </tr>\n",
       "  </tbody>\n",
       "</table>\n",
       "<p>225 rows × 14 columns</p>\n",
       "</div>"
      ],
      "text/plain": [
       "     userId  gender  churn_cancellation  days_registered last_state  \\\n",
       "0    100010       1                   0             55.0         CT   \n",
       "1    200002       0                   0             70.0         WI   \n",
       "2       125       0                   1             72.0         TX   \n",
       "3       124       1                   0            131.0     Others   \n",
       "4        51       0                   1             20.0     Others   \n",
       "5         7       0                   0             73.0         WA   \n",
       "6        15       0                   0             57.0         WV   \n",
       "7        54       1                   1            110.0         WA   \n",
       "8       155       1                   0             24.0         NH   \n",
       "9    100014       0                   1             85.0         PA   \n",
       "10      132       1                   0             67.0     Others   \n",
       "11      154       1                   0             24.0         PA   \n",
       "12      101       0                   1             54.0     Others   \n",
       "13       11       1                   0            125.0     Others   \n",
       "14      138       0                   0             66.0         PA   \n",
       "15   300017       1                   0             74.0         MI   \n",
       "16   100021       0                   1             65.0         TX   \n",
       "17       29       0                   1             60.0         CA   \n",
       "18       69       1                   0             71.0         WI   \n",
       "19      112       0                   0             87.0         IN   \n",
       "20       42       1                   0             67.0     Others   \n",
       "21       73       1                   1             50.0         NY   \n",
       "22       87       0                   1             59.0     Others   \n",
       "23   200010       1                   0             38.0     Others   \n",
       "24       64       0                   0             49.0         TX   \n",
       "25        3       0                   1             81.0     Others   \n",
       "26      113       1                   0            123.0         SC   \n",
       "27       30       0                   0             63.0         CA   \n",
       "28       34       0                   0             71.0         FL   \n",
       "29      133       0                   0             40.0         CA   \n",
       "..      ...     ...                 ...              ...        ...   \n",
       "195      83       0                   0            124.0     Others   \n",
       "196     109       1                   0             88.0         IL   \n",
       "197     123       0                   0            101.0         FL   \n",
       "198  200022       0                   0             89.0         IL   \n",
       "199      13       1                   0            119.0         MD   \n",
       "200  200019       0                   0             56.0         CA   \n",
       "201      14       0                   0            132.0         NY   \n",
       "202      21       0                   0             69.0         IL   \n",
       "203      66       1                   0            126.0         CA   \n",
       "204      91       0                   0            116.0         CT   \n",
       "205      94       1                   0            133.0     Others   \n",
       "206     137       0                   0            124.0         PA   \n",
       "207      72       1                   0            124.0         FL   \n",
       "208      74       1                   0             71.0         FL   \n",
       "209  300016       0                   0            101.0         WI   \n",
       "210     151       0                   0             42.0         WV   \n",
       "211  200015       0                   1             88.0         CA   \n",
       "212     129       0                   1             17.0         MI   \n",
       "213      76       0                   0             57.0         CA   \n",
       "214       2       1                   0             69.0         NC   \n",
       "215  100002       1                   0            161.0         CA   \n",
       "216  100018       0                   0            111.0         TX   \n",
       "217      80       1                   0             59.0         CA   \n",
       "218     145       1                   0            102.0         PA   \n",
       "219      50       1                   0             75.0     Others   \n",
       "220      45       1                   0             81.0     Others   \n",
       "221      57       0                   0             88.0         CA   \n",
       "222  200021       1                   1             71.0         MI   \n",
       "223     119       1                   0            189.0         SC   \n",
       "224  100001       1                   1             45.0         FL   \n",
       "\n",
       "     avg_songs  last_level  thumbs_up_count  thumbs_down_count  num_friends  \\\n",
       "0        39.29           0               17                  5            4   \n",
       "1        55.29           1               21                  6            4   \n",
       "2         8.00           0                0                  0            0   \n",
       "3       127.47           1              171                 41           74   \n",
       "4       162.38           1              100                 21           28   \n",
       "5        18.75           0                7                  1            1   \n",
       "6       100.74           1               81                 14           31   \n",
       "7        94.70           1              163                 29           33   \n",
       "8       102.50           1               58                  3           11   \n",
       "9        42.83           1               17                  3            6   \n",
       "10       91.81           1               96                 17           41   \n",
       "11       28.00           0               11                  0            3   \n",
       "12      138.23           1               86                 16           29   \n",
       "13       40.44           1               40                  9            6   \n",
       "14      121.76           1               95                 24           41   \n",
       "15       75.67           1              303                 28           63   \n",
       "16       46.00           0               11                  5            7   \n",
       "17      104.41           1              154                 22           47   \n",
       "18       93.75           1               72                  9           12   \n",
       "19       30.71           0                9                  3            7   \n",
       "20       87.15           1              166                 25           52   \n",
       "21       75.40           1               14                  7           11   \n",
       "22       47.94           1               32                  5           27   \n",
       "23       47.40           0               14                  7            8   \n",
       "24       15.33           0                4                  0            5   \n",
       "25       42.80           1               14                  3            1   \n",
       "26       68.91           1               82                 12           32   \n",
       "27       61.61           1               62                 17           25   \n",
       "28       13.25           0                2                  0            0   \n",
       "29       32.00           0                2                  0            1   \n",
       "..         ...         ...              ...                ...          ...   \n",
       "195      56.14           1               69                 10           18   \n",
       "196      59.75           0               23                  5           12   \n",
       "197      21.43           0                5                  1            5   \n",
       "198      43.50           0               16                 10            6   \n",
       "199      49.23           0               57                 14           32   \n",
       "200      49.50           0               28                 17            8   \n",
       "201      94.62           1               54                 12           19   \n",
       "202      99.80           1               27                  2            8   \n",
       "203      47.50           1               52                  8           24   \n",
       "204     151.76           1              124                 24           42   \n",
       "205      24.33           0                4                  1            1   \n",
       "206      38.50           1                8                  1            8   \n",
       "207      85.00           0                6                  1            3   \n",
       "208     104.35           1              135                 25           43   \n",
       "209      48.58           1               56                  4           11   \n",
       "210     138.00           1                4                  1            3   \n",
       "211      28.67           0               10                 10            2   \n",
       "212      55.17           1                7                  7           11   \n",
       "213      30.29           0               13                  2            3   \n",
       "214      83.89           1               29                  6           20   \n",
       "215      39.00           1                5                  0            1   \n",
       "216      52.74           0               46                  9           23   \n",
       "217      26.21           0               11                  4            9   \n",
       "218      75.27           1               61                  8           34   \n",
       "219      62.88           1               27                  3            9   \n",
       "220      74.20           1               67                 13           22   \n",
       "221      46.00           0                3                  2            0   \n",
       "222      68.17           1               55                 35           19   \n",
       "223      24.71           0                7                  1            4   \n",
       "224      66.50           0                8                  2            2   \n",
       "\n",
       "     avg_roll_advert  help_visit  error_visit  total_playlist  \n",
       "0               8.67    1.000000     0.000000               7  \n",
       "1               1.75    1.000000     0.000000               8  \n",
       "2               1.00    0.000000     0.000000               0  \n",
       "3               1.00    1.437500     1.200000             118  \n",
       "4               0.00    1.714286     1.000000              52  \n",
       "5               3.20    1.000000     1.000000               5  \n",
       "6               1.00    1.142857     1.000000              59  \n",
       "7               3.62    1.133333     1.000000              72  \n",
       "8               4.00    1.800000     1.000000              24  \n",
       "9               1.00    1.000000     0.000000               7  \n",
       "10              1.00    1.777778     1.000000              38  \n",
       "11              3.33    1.000000     0.000000               1  \n",
       "12              4.00    1.714286     1.500000              61  \n",
       "13              3.25    1.500000     1.000000              20  \n",
       "14              2.83    1.857143     1.000000              67  \n",
       "15              1.22    1.350000     1.250000             113  \n",
       "16              6.00    0.000000     1.000000               7  \n",
       "17              2.00    1.555556     0.000000              89  \n",
       "18              1.50    2.333333     1.333333              33  \n",
       "19              3.00    1.000000     0.000000               7  \n",
       "20              2.00    1.176471     1.000000             104  \n",
       "21              1.00    1.333333     1.000000              11  \n",
       "22              4.17    1.600000     0.000000              19  \n",
       "23              4.25    1.000000     1.000000               5  \n",
       "24              1.00    1.000000     0.000000               1  \n",
       "25              1.00    1.000000     0.000000               4  \n",
       "26              1.00    1.400000     1.000000              50  \n",
       "27              4.00    1.000000     1.000000              47  \n",
       "28              1.50    0.000000     0.000000               4  \n",
       "29              1.00    0.000000     0.000000               3  \n",
       "..               ...         ...          ...             ...  \n",
       "195             2.11    1.250000     1.500000              28  \n",
       "196             1.40    2.000000     0.000000              16  \n",
       "197             2.80    1.000000     0.000000               8  \n",
       "198             8.50    1.000000     1.000000               5  \n",
       "199             3.70    1.333333     0.000000              37  \n",
       "200             2.50    1.000000     0.000000              18  \n",
       "201             1.00    1.250000     1.000000              34  \n",
       "202             0.00    2.000000     1.000000               9  \n",
       "203             3.89    1.000000     0.000000              38  \n",
       "204             2.50    1.285714     1.500000              64  \n",
       "205             2.00    0.000000     0.000000               3  \n",
       "206             3.33    1.000000     0.000000               4  \n",
       "207            10.00    0.000000     1.000000               3  \n",
       "208             3.14    1.857143     1.000000              80  \n",
       "209             2.00    0.000000     1.000000              26  \n",
       "210             0.00    1.000000     0.000000               2  \n",
       "211             3.14    1.000000     1.000000              13  \n",
       "212             1.00    2.000000     1.000000              11  \n",
       "213             2.50    1.000000     1.000000               4  \n",
       "214             0.00    1.000000     0.000000              13  \n",
       "215             1.00    0.000000     0.000000               5  \n",
       "216             8.00    1.166667     0.000000              31  \n",
       "217             2.00    1.333333     0.000000              13  \n",
       "218             0.00    1.000000     0.000000              27  \n",
       "219             5.29    2.333333     1.000000              12  \n",
       "220             1.86    1.000000     0.000000              43  \n",
       "221             6.00    1.000000     0.000000               0  \n",
       "222             1.57    1.000000     1.000000              30  \n",
       "223             1.80    3.000000     1.000000               5  \n",
       "224             7.00    1.000000     1.000000               3  \n",
       "\n",
       "[225 rows x 14 columns]"
      ]
     },
     "execution_count": 64,
     "metadata": {},
     "output_type": "execute_result"
    }
   ],
   "source": [
    "df_final"
   ]
  },
  {
   "cell_type": "markdown",
   "metadata": {},
   "source": [
    "# Modeling\n",
    "Split the full dataset into train, test, and validation sets. Test out several of the machine learning methods you learned. Evaluate the accuracy of the various models, tuning parameters as necessary. Determine your winning model based on test accuracy and report results on the validation set. Since the churned users are a fairly small subset, I suggest using F1 score as the metric to optimize."
   ]
  },
  {
   "cell_type": "code",
   "execution_count": 94,
   "metadata": {},
   "outputs": [],
   "source": [
    "pickleRdd = spark.sparkContext.pickleFile(\"df_data3\").collect()\n",
    "df_model = spark.createDataFrame(pickleRdd)"
   ]
  },
  {
   "cell_type": "code",
   "execution_count": 126,
   "metadata": {},
   "outputs": [
    {
     "data": {
      "text/plain": [
       "['userId',\n",
       " 'gender',\n",
       " 'churn_cancellation',\n",
       " 'days_registered',\n",
       " 'last_state',\n",
       " 'avg_songs',\n",
       " 'last_level',\n",
       " 'thumbs_up_count',\n",
       " 'thumbs_down_count',\n",
       " 'num_friends',\n",
       " 'avg_roll_advert',\n",
       " 'help_visit',\n",
       " 'error_visit',\n",
       " 'total_playlist']"
      ]
     },
     "execution_count": 126,
     "metadata": {},
     "output_type": "execute_result"
    }
   ],
   "source": [
    "df_model.columns"
   ]
  },
  {
   "cell_type": "code",
   "execution_count": 130,
   "metadata": {},
   "outputs": [],
   "source": [
    "df_model =df_model.drop(col(\"last_state\"))"
   ]
  },
  {
   "cell_type": "code",
   "execution_count": 131,
   "metadata": {},
   "outputs": [
    {
     "data": {
      "text/plain": [
       "['userId',\n",
       " 'gender',\n",
       " 'churn_cancellation',\n",
       " 'days_registered',\n",
       " 'avg_songs',\n",
       " 'last_level',\n",
       " 'thumbs_up_count',\n",
       " 'thumbs_down_count',\n",
       " 'num_friends',\n",
       " 'avg_roll_advert',\n",
       " 'help_visit',\n",
       " 'error_visit',\n",
       " 'total_playlist']"
      ]
     },
     "execution_count": 131,
     "metadata": {},
     "output_type": "execute_result"
    }
   ],
   "source": [
    "df_model.columns"
   ]
  },
  {
   "cell_type": "code",
   "execution_count": 132,
   "metadata": {},
   "outputs": [],
   "source": [
    "# Train-test-split\n",
    "train, test = df_model.randomSplit([0.8, 0.2], seed=23)"
   ]
  },
  {
   "cell_type": "code",
   "execution_count": 133,
   "metadata": {},
   "outputs": [
    {
     "name": "stdout",
     "output_type": "stream",
     "text": [
      "169 56\n"
     ]
    }
   ],
   "source": [
    "print(train.count(), test.count())"
   ]
  },
  {
   "cell_type": "code",
   "execution_count": 134,
   "metadata": {},
   "outputs": [],
   "source": [
    "# from our earlier analysis we know that it is a class imbalance problem : churned (52). non churned(173)\n",
    "# accuracy is not the important metric"
   ]
  },
  {
   "cell_type": "code",
   "execution_count": 135,
   "metadata": {},
   "outputs": [
    {
     "data": {
      "text/plain": [
       "['userId',\n",
       " 'gender',\n",
       " 'churn_cancellation',\n",
       " 'days_registered',\n",
       " 'avg_songs',\n",
       " 'last_level',\n",
       " 'thumbs_up_count',\n",
       " 'thumbs_down_count',\n",
       " 'num_friends',\n",
       " 'avg_roll_advert',\n",
       " 'help_visit',\n",
       " 'error_visit',\n",
       " 'total_playlist']"
      ]
     },
     "execution_count": 135,
     "metadata": {},
     "output_type": "execute_result"
    }
   ],
   "source": [
    "train.columns"
   ]
  },
  {
   "cell_type": "code",
   "execution_count": 136,
   "metadata": {},
   "outputs": [],
   "source": [
    "from pyspark.ml.feature import OneHotEncoder"
   ]
  },
  {
   "cell_type": "code",
   "execution_count": 138,
   "metadata": {},
   "outputs": [],
   "source": [
    "def create_pipeline(df):\n",
    "    # Assuming your DataFrame is called 'df' and the categorical column is 'states'\n",
    "\n",
    "    # Step 1: StringIndexer to convert categorical column to numerical indices\n",
    "    #stringIndexer = StringIndexer(inputCol=\"last_state\", outputCol=\"states_indexed\")\n",
    "\n",
    "    # Step 2: OneHotEncoder to convert the indexed column to binary vectors\n",
    "    #oneHotEncoder = OneHotEncoder(inputCol=\"states_indexed\", outputCol=\"states_encoded\")\n",
    "\n",
    "    # Step 3: VectorAssembler to combine the encoded column with other features\n",
    "    vectorAssembler = VectorAssembler(inputCols=[\"days_registered\",\n",
    "                                                 \"avg_songs\",\n",
    "                                                 \"last_level\",\n",
    "                                                 \"thumbs_up_count\",\n",
    "                                                 \"thumbs_down_count\",\n",
    "                                                 \"num_friends\",\n",
    "                                                 \"avg_roll_advert\",\n",
    "                                                 \"help_visit\",\n",
    "                                                 \"error_visit\",\n",
    "                                                 \"total_playlist\",\n",
    "                                                  \"gender\"],\n",
    "                                       outputCol=\"features\")\n",
    "\n",
    "    # Step 4: Normalizer to normalize the feature vector\n",
    "    normalizer = Normalizer(inputCol=\"features\", outputCol=\"normalized_features\")\n",
    "\n",
    "    # Create the pipeline\n",
    "    #pipeline = Pipeline(stages=[stringIndexer, oneHotEncoder, vectorAssembler, normalizer])\n",
    "    pipeline = Pipeline(stages=[vectorAssembler, normalizer])\n",
    "\n",
    "    # Fit the pipeline to the DataFrame\n",
    "    pipelineModel = pipeline.fit(df)\n",
    "\n",
    "    # Transform the DataFrame\n",
    "    transformed_df = pipelineModel.transform(df)\n",
    "    #print(transformed_df.columns)\n",
    "    # Show the result\n",
    "    return transformed_df, pipelineModel"
   ]
  },
  {
   "cell_type": "code",
   "execution_count": 139,
   "metadata": {},
   "outputs": [],
   "source": [
    "pipe_data, pipe_Model= create_pipeline(train)"
   ]
  },
  {
   "cell_type": "code",
   "execution_count": 140,
   "metadata": {},
   "outputs": [
    {
     "name": "stdout",
     "output_type": "stream",
     "text": [
      "+------+------+------------------+---------------+---------+----------+---------------+-----------------+-----------+---------------+----------+-----------+--------------+--------------------+--------------------+\n",
      "|userId|gender|churn_cancellation|days_registered|avg_songs|last_level|thumbs_up_count|thumbs_down_count|num_friends|avg_roll_advert|help_visit|error_visit|total_playlist|            features| normalized_features|\n",
      "+------+------+------------------+---------------+---------+----------+---------------+-----------------+-----------+---------------+----------+-----------+--------------+--------------------+--------------------+\n",
      "|100016|     0|                 0|           75.0|     53.0|         0|             25|                5|         13|            3.2|       1.5|        1.0|             6|[75.0,53.0,0.0,25...|[0.77760967865462...|\n",
      "+------+------+------------------+---------------+---------+----------+---------------+-----------------+-----------+---------------+----------+-----------+--------------+--------------------+--------------------+\n",
      "only showing top 1 row\n",
      "\n"
     ]
    }
   ],
   "source": [
    "pipe_data.show(1)"
   ]
  },
  {
   "cell_type": "code",
   "execution_count": 141,
   "metadata": {},
   "outputs": [
    {
     "data": {
      "text/plain": [
       "['userId',\n",
       " 'gender',\n",
       " 'churn_cancellation',\n",
       " 'days_registered',\n",
       " 'avg_songs',\n",
       " 'last_level',\n",
       " 'thumbs_up_count',\n",
       " 'thumbs_down_count',\n",
       " 'num_friends',\n",
       " 'avg_roll_advert',\n",
       " 'help_visit',\n",
       " 'error_visit',\n",
       " 'total_playlist',\n",
       " 'features',\n",
       " 'normalized_features']"
      ]
     },
     "execution_count": 141,
     "metadata": {},
     "output_type": "execute_result"
    }
   ],
   "source": [
    "pipe_data.columns"
   ]
  },
  {
   "cell_type": "markdown",
   "metadata": {},
   "source": [
    "The OneHotEncoder in Spark creates a sparse vector representation by default to efficiently handle cases where there are a large number of distinct values in the categorical column. Instead of creating a binary column for each value, it creates a sparse vector that represents the presence or absence of each value.\n",
    "\n",
    "In the output you provided, (33,[17],[1.0]) means that the states_encoded column has 33 distinct values, and the value at index 17 is 1.0. The other values in the sparse vector are implicitly assumed to be 0."
   ]
  },
  {
   "cell_type": "code",
   "execution_count": 143,
   "metadata": {},
   "outputs": [],
   "source": [
    "trainingTransformed = pipe_Model.transform(train)\n",
    "testTransformed = pipe_Model.transform(test)"
   ]
  },
  {
   "cell_type": "code",
   "execution_count": 144,
   "metadata": {},
   "outputs": [
    {
     "data": {
      "text/plain": [
       "[Row(userId='93', gender=0, churn_cancellation=0, days_registered=71.0, avg_songs=58.18, last_level=1, thumbs_up_count=35, thumbs_down_count=4, num_friends=13, avg_roll_advert=5.38, help_visit=1.75, error_visit=0.0, total_playlist=17, features=DenseVector([71.0, 58.18, 1.0, 35.0, 4.0, 13.0, 5.38, 1.75, 0.0, 17.0, 0.0]), normalized_features=DenseVector([0.7045, 0.5773, 0.0099, 0.3473, 0.0397, 0.129, 0.0534, 0.0174, 0.0, 0.1687, 0.0]))]"
      ]
     },
     "execution_count": 144,
     "metadata": {},
     "output_type": "execute_result"
    }
   ],
   "source": [
    "trainingTransformed.persist()\n",
    "trainingTransformed.take(1)\n",
    "testTransformed.persist()\n",
    "testTransformed.take(1)"
   ]
  },
  {
   "cell_type": "code",
   "execution_count": 145,
   "metadata": {},
   "outputs": [
    {
     "name": "stdout",
     "output_type": "stream",
     "text": [
      "+------------------+-----+\n",
      "|churn_cancellation|count|\n",
      "+------------------+-----+\n",
      "|                 0|  131|\n",
      "|                 1|   38|\n",
      "+------------------+-----+\n",
      "\n"
     ]
    }
   ],
   "source": [
    "trainingTransformed.select(\"churn_cancellation\").groupby(\"churn_cancellation\").count().show()"
   ]
  },
  {
   "cell_type": "code",
   "execution_count": 146,
   "metadata": {},
   "outputs": [],
   "source": [
    "# classification algiorithmns\n",
    "# - Logistic Regressions\n",
    "# - Random Forest\n",
    "# - XGBoost\n",
    "# - Ada Boost\n",
    "# - Naive Bias"
   ]
  },
  {
   "cell_type": "code",
   "execution_count": 147,
   "metadata": {},
   "outputs": [
    {
     "name": "stdout",
     "output_type": "stream",
     "text": [
      "+------+------+------------------+---------------+---------+----------+---------------+-----------------+-----------+---------------+----------+-----------+--------------+--------------------+--------------------+\n",
      "|userId|gender|churn_cancellation|days_registered|avg_songs|last_level|thumbs_up_count|thumbs_down_count|num_friends|avg_roll_advert|help_visit|error_visit|total_playlist|            features| normalized_features|\n",
      "+------+------+------------------+---------------+---------+----------+---------------+-----------------+-----------+---------------+----------+-----------+--------------+--------------------+--------------------+\n",
      "|100016|     0|                 0|           75.0|     53.0|         0|             25|                5|         13|            3.2|       1.5|        1.0|             6|[75.0,53.0,0.0,25...|[0.77760967865462...|\n",
      "+------+------+------------------+---------------+---------+----------+---------------+-----------------+-----------+---------------+----------+-----------+--------------+--------------------+--------------------+\n",
      "only showing top 1 row\n",
      "\n"
     ]
    }
   ],
   "source": [
    "trainingTransformed.show(1)"
   ]
  },
  {
   "cell_type": "code",
   "execution_count": 148,
   "metadata": {},
   "outputs": [
    {
     "name": "stdout",
     "output_type": "stream",
     "text": [
      "+------+------+------------------+---------------+---------+----------+---------------+-----------------+-----------+---------------+----------+-----------+--------------+--------------------+--------------------+\n",
      "|userId|gender|churn_cancellation|days_registered|avg_songs|last_level|thumbs_up_count|thumbs_down_count|num_friends|avg_roll_advert|help_visit|error_visit|total_playlist|            features| normalized_features|\n",
      "+------+------+------------------+---------------+---------+----------+---------------+-----------------+-----------+---------------+----------+-----------+--------------+--------------------+--------------------+\n",
      "|    93|     0|                 0|           71.0|    58.18|         1|             35|                4|         13|           5.38|      1.75|        0.0|            17|[71.0,58.18,1.0,3...|[0.70445940172145...|\n",
      "+------+------+------------------+---------------+---------+----------+---------------+-----------------+-----------+---------------+----------+-----------+--------------+--------------------+--------------------+\n",
      "only showing top 1 row\n",
      "\n"
     ]
    }
   ],
   "source": [
    "testTransformed.show(1)"
   ]
  },
  {
   "cell_type": "code",
   "execution_count": 149,
   "metadata": {},
   "outputs": [],
   "source": [
    "#################### Random Forest #######################"
   ]
  },
  {
   "cell_type": "code",
   "execution_count": 150,
   "metadata": {},
   "outputs": [],
   "source": [
    "rf = RandomForestClassifier(labelCol=\"churn_cancellation\",\n",
    "                            featuresCol=\"features\", \n",
    "                            maxDepth=10, \n",
    "                            numTrees=100, \n",
    "                            seed=23)"
   ]
  },
  {
   "cell_type": "code",
   "execution_count": 151,
   "metadata": {},
   "outputs": [
    {
     "name": "stdout",
     "output_type": "stream",
     "text": [
      "AUC on Test Set 1.0000000000000002\n"
     ]
    }
   ],
   "source": [
    "evaluator = BinaryClassificationEvaluator(labelCol=\"churn_cancellation\", )\n",
    "\n",
    "model = rf.fit(trainingTransformed)\n",
    "pred = model.transform(trainingTransformed)\n",
    "print(f\"AUC on Test Set {evaluator.evaluate(pred)}\")"
   ]
  },
  {
   "cell_type": "code",
   "execution_count": 152,
   "metadata": {},
   "outputs": [
    {
     "name": "stdout",
     "output_type": "stream",
     "text": [
      "AUC on Test Set 0.625\n"
     ]
    }
   ],
   "source": [
    "pred_test = model.transform(testTransformed)\n",
    "print(f\"AUC on Test Set {evaluator.evaluate(pred_test)}\")"
   ]
  },
  {
   "cell_type": "code",
   "execution_count": 153,
   "metadata": {},
   "outputs": [],
   "source": [
    "#This shows very poor performance need to tune it, also best measure is to check for F-1 score because of impabalnce dataset"
   ]
  },
  {
   "cell_type": "code",
   "execution_count": null,
   "metadata": {},
   "outputs": [],
   "source": []
  },
  {
   "cell_type": "code",
   "execution_count": 154,
   "metadata": {},
   "outputs": [],
   "source": [
    "def udfModelEvaluator(dfPredictions, label = 'churn_cancellation'):\n",
    "\n",
    "    # Convert prediction and label columns to DoubleType\n",
    "    colSelect = dfPredictions.select(\n",
    "        [F.col('prediction').cast(DoubleType()),\n",
    "         F.col(label).cast(DoubleType()).alias(label)])\n",
    "\n",
    "    # Calculate accuracy\n",
    "    evaluator = MulticlassClassificationEvaluator(labelCol=label, predictionCol='prediction', metricName='accuracy')\n",
    "    accuracy = evaluator.evaluate(colSelect)\n",
    "\n",
    "    # Calculate precision, recall, and F1-score\n",
    "    evaluator = MulticlassClassificationEvaluator(labelCol=label, predictionCol='prediction', metricName='weightedPrecision')\n",
    "    precision = evaluator.evaluate(colSelect)\n",
    "    evaluator = MulticlassClassificationEvaluator(labelCol=label, predictionCol='prediction', metricName='weightedRecall')\n",
    "    recall = evaluator.evaluate(colSelect)\n",
    "    evaluator = MulticlassClassificationEvaluator(labelCol=label, predictionCol='prediction', metricName='f1')\n",
    "    f1 = evaluator.evaluate(colSelect)\n",
    "\n",
    "    # Calculate AUC\n",
    "    evaluator = BinaryClassificationEvaluator(labelCol=label, rawPredictionCol='prediction', metricName='areaUnderROC')\n",
    "    auc = evaluator.evaluate(dfPredictions)\n",
    "\n",
    "    # Calculate precision-recall curve\n",
    "    evaluator = BinaryClassificationEvaluator(labelCol=label, rawPredictionCol='prediction', metricName='areaUnderPR')\n",
    "    pr_curve = evaluator.evaluate(dfPredictions)\n",
    "\n",
    "#     # Calculate classification report\n",
    "#     evaluator = MulticlassClassificationEvaluator(labelCol=label, predictionCol='prediction', metricName='truePositiveRate')\n",
    "#     tpr = evaluator.evaluate(colSelect)\n",
    "#     evaluator = MulticlassClassificationEvaluator(labelCol=label, predictionCol='prediction', metricName='falsePositiveRate')\n",
    "#     fpr = evaluator.evaluate(colSelect)\n",
    "#     classification_report = {'weightedTruePositiveRate': tpr, 'weightedFalsePositiveRate': fpr}\n",
    "\n",
    "    \n",
    "    preds_and_labels = dfPredictions.select(['prediction',label]).withColumn(label, col(label).cast(FloatType())).orderBy('prediction')\n",
    "    metrics = MulticlassMetrics(preds_and_labels.rdd.map(tuple))\n",
    "    \n",
    "    confusion_matrix = metrics.confusionMatrix().toArray()\n",
    "    df_confusion_matrix = pd.DataFrame(confusion_matrix, columns=['Predicted Not Churned', 'Predicted Churned'])\n",
    "    df_confusion_matrix.index = ['Actual Not Churned', 'Actual Churned']\n",
    "    \n",
    "#     # Calculate confusion matrix\n",
    "#     predictionsAndLabels = colSelect.rdd.map(lambda x: (x.prediction, x.label))\n",
    "#     metrics = MulticlassMetrics(predictionsAndLabels)\n",
    "#     confusionMatrix = metrics.confusionMatrix().toArray()\"\"\n",
    "\n",
    "    \n",
    "    # Create results dictionary\n",
    "    results = {\n",
    "        'accuracy': accuracy,\n",
    "        'precision': precision,\n",
    "        'recall': recall,\n",
    "        'f1': f1,\n",
    "        #'confusionMatrix': print(df_confusion_matrix),\n",
    "        'auc': auc,\n",
    "        'pr_curve': pr_curve\n",
    "        #'classification_report': classification_report\n",
    "    }\n",
    "\n",
    "    return results, df_confusion_matrix"
   ]
  },
  {
   "cell_type": "code",
   "execution_count": 155,
   "metadata": {},
   "outputs": [],
   "source": [
    "# label=\"churn_cancellation\"\n",
    "# preds_and_labels = pred_test.select(['prediction',label]).withColumn(label, col(label).cast(FloatType())).orderBy('prediction')\n",
    "# metrics = MulticlassMetrics(preds_and_labels.rdd.map(tuple))"
   ]
  },
  {
   "cell_type": "code",
   "execution_count": 156,
   "metadata": {},
   "outputs": [],
   "source": [
    "# metrics.confusionMatrix().toArray()"
   ]
  },
  {
   "cell_type": "code",
   "execution_count": 157,
   "metadata": {},
   "outputs": [],
   "source": [
    "pred = model.transform(trainingTransformed)"
   ]
  },
  {
   "cell_type": "code",
   "execution_count": 158,
   "metadata": {},
   "outputs": [],
   "source": [
    "pred_test = model.transform(testTransformed)"
   ]
  },
  {
   "cell_type": "code",
   "execution_count": 159,
   "metadata": {},
   "outputs": [
    {
     "name": "stderr",
     "output_type": "stream",
     "text": [
      "Exception ignored in: <object repr() failed>\n",
      "Traceback (most recent call last):\n",
      "  File \"/opt/spark-2.4.3-bin-hadoop2.7/python/pyspark/ml/wrapper.py\", line 40, in __del__\n",
      "    if SparkContext._active_spark_context and self._java_obj is not None:\n",
      "AttributeError: 'OneHotEncoder' object has no attribute '_java_obj'\n"
     ]
    }
   ],
   "source": [
    "evaluation_results, confusion_metrics = udfModelEvaluator(pred_test, label='churn_cancellation')"
   ]
  },
  {
   "cell_type": "code",
   "execution_count": 160,
   "metadata": {},
   "outputs": [
    {
     "data": {
      "text/plain": [
       "{'accuracy': 0.8035714285714286,\n",
       " 'precision': 0.8029411764705883,\n",
       " 'recall': 0.8035714285714285,\n",
       " 'f1': 0.766553480475382,\n",
       " 'auc': 0.6309523809523809,\n",
       " 'pr_curve': 0.6035714285714285}"
      ]
     },
     "execution_count": 160,
     "metadata": {},
     "output_type": "execute_result"
    }
   ],
   "source": [
    "evaluation_results"
   ]
  },
  {
   "cell_type": "code",
   "execution_count": 161,
   "metadata": {},
   "outputs": [
    {
     "data": {
      "text/html": [
       "<div>\n",
       "<style scoped>\n",
       "    .dataframe tbody tr th:only-of-type {\n",
       "        vertical-align: middle;\n",
       "    }\n",
       "\n",
       "    .dataframe tbody tr th {\n",
       "        vertical-align: top;\n",
       "    }\n",
       "\n",
       "    .dataframe thead th {\n",
       "        text-align: right;\n",
       "    }\n",
       "</style>\n",
       "<table border=\"1\" class=\"dataframe\">\n",
       "  <thead>\n",
       "    <tr style=\"text-align: right;\">\n",
       "      <th></th>\n",
       "      <th>Predicted Not Churned</th>\n",
       "      <th>Predicted Churned</th>\n",
       "    </tr>\n",
       "  </thead>\n",
       "  <tbody>\n",
       "    <tr>\n",
       "      <th>Actual Not Churned</th>\n",
       "      <td>41.0</td>\n",
       "      <td>1.0</td>\n",
       "    </tr>\n",
       "    <tr>\n",
       "      <th>Actual Churned</th>\n",
       "      <td>10.0</td>\n",
       "      <td>4.0</td>\n",
       "    </tr>\n",
       "  </tbody>\n",
       "</table>\n",
       "</div>"
      ],
      "text/plain": [
       "                    Predicted Not Churned  Predicted Churned\n",
       "Actual Not Churned                   41.0                1.0\n",
       "Actual Churned                       10.0                4.0"
      ]
     },
     "execution_count": 161,
     "metadata": {},
     "output_type": "execute_result"
    }
   ],
   "source": [
    "confusion_metrics "
   ]
  },
  {
   "cell_type": "code",
   "execution_count": 162,
   "metadata": {},
   "outputs": [],
   "source": [
    "########## logistics regression #############"
   ]
  },
  {
   "cell_type": "code",
   "execution_count": 163,
   "metadata": {},
   "outputs": [],
   "source": [
    "lr = LogisticRegression(labelCol=\"churn_cancellation\",\n",
    "                        featuresCol=\"features\",\n",
    "                        maxIter=10,\n",
    "                        regParam=0.01,\n",
    "                        elasticNetParam=0.8,\n",
    "                        family=\"binomial\",\n",
    "                        threshold=0.5,\n",
    "                        fitIntercept=True,\n",
    "                        standardization=True,\n",
    "                        aggregationDepth=2)\n",
    "\n",
    "model = lr.fit(trainingTransformed)\n",
    "pred = model.transform(trainingTransformed)"
   ]
  },
  {
   "cell_type": "code",
   "execution_count": 164,
   "metadata": {},
   "outputs": [],
   "source": [
    "pred_test = model.transform(testTransformed)\n",
    "evaluation_results, confusion_metrics = udfModelEvaluator(pred_test, label='churn_cancellation')"
   ]
  },
  {
   "cell_type": "code",
   "execution_count": 165,
   "metadata": {},
   "outputs": [
    {
     "data": {
      "text/plain": [
       "{'accuracy': 0.7678571428571429,\n",
       " 'precision': 0.8227272727272729,\n",
       " 'recall': 0.7678571428571429,\n",
       " 'f1': 0.6828178694158076,\n",
       " 'auc': 0.5357142857142857,\n",
       " 'pr_curve': 0.6517857142857143}"
      ]
     },
     "execution_count": 165,
     "metadata": {},
     "output_type": "execute_result"
    }
   ],
   "source": [
    "evaluation_results"
   ]
  },
  {
   "cell_type": "code",
   "execution_count": 166,
   "metadata": {},
   "outputs": [
    {
     "data": {
      "text/html": [
       "<div>\n",
       "<style scoped>\n",
       "    .dataframe tbody tr th:only-of-type {\n",
       "        vertical-align: middle;\n",
       "    }\n",
       "\n",
       "    .dataframe tbody tr th {\n",
       "        vertical-align: top;\n",
       "    }\n",
       "\n",
       "    .dataframe thead th {\n",
       "        text-align: right;\n",
       "    }\n",
       "</style>\n",
       "<table border=\"1\" class=\"dataframe\">\n",
       "  <thead>\n",
       "    <tr style=\"text-align: right;\">\n",
       "      <th></th>\n",
       "      <th>Predicted Not Churned</th>\n",
       "      <th>Predicted Churned</th>\n",
       "    </tr>\n",
       "  </thead>\n",
       "  <tbody>\n",
       "    <tr>\n",
       "      <th>Actual Not Churned</th>\n",
       "      <td>42.0</td>\n",
       "      <td>0.0</td>\n",
       "    </tr>\n",
       "    <tr>\n",
       "      <th>Actual Churned</th>\n",
       "      <td>13.0</td>\n",
       "      <td>1.0</td>\n",
       "    </tr>\n",
       "  </tbody>\n",
       "</table>\n",
       "</div>"
      ],
      "text/plain": [
       "                    Predicted Not Churned  Predicted Churned\n",
       "Actual Not Churned                   42.0                0.0\n",
       "Actual Churned                       13.0                1.0"
      ]
     },
     "execution_count": 166,
     "metadata": {},
     "output_type": "execute_result"
    }
   ],
   "source": [
    "confusion_metrics"
   ]
  },
  {
   "cell_type": "markdown",
   "metadata": {},
   "source": [
    "# Final Steps\n",
    "Clean up your code, adding comments and renaming variables to make the code easier to read and maintain. Refer to the Spark Project Overview page and Data Scientist Capstone Project Rubric to make sure you are including all components of the capstone project and meet all expectations. Remember, this includes thorough documentation in a README file in a Github repository, as well as a web app or blog post."
   ]
  },
  {
   "cell_type": "code",
   "execution_count": 143,
   "metadata": {},
   "outputs": [
    {
     "name": "stdout",
     "output_type": "stream",
     "text": [
      "2\n"
     ]
    }
   ],
   "source": [
    "print(1+1)"
   ]
  },
  {
   "cell_type": "code",
   "execution_count": null,
   "metadata": {},
   "outputs": [],
   "source": [
    "print(df.select(\"page\").dropDuplicates().show())"
   ]
  },
  {
   "cell_type": "code",
   "execution_count": null,
   "metadata": {},
   "outputs": [],
   "source": []
  },
  {
   "cell_type": "code",
   "execution_count": null,
   "metadata": {},
   "outputs": [],
   "source": []
  },
  {
   "cell_type": "code",
   "execution_count": null,
   "metadata": {},
   "outputs": [],
   "source": []
  },
  {
   "cell_type": "code",
   "execution_count": null,
   "metadata": {},
   "outputs": [],
   "source": []
  },
  {
   "cell_type": "code",
   "execution_count": null,
   "metadata": {},
   "outputs": [],
   "source": []
  },
  {
   "cell_type": "code",
   "execution_count": null,
   "metadata": {},
   "outputs": [],
   "source": []
  },
  {
   "cell_type": "code",
   "execution_count": null,
   "metadata": {},
   "outputs": [],
   "source": []
  },
  {
   "cell_type": "code",
   "execution_count": null,
   "metadata": {},
   "outputs": [],
   "source": []
  },
  {
   "cell_type": "code",
   "execution_count": null,
   "metadata": {},
   "outputs": [],
   "source": []
  }
 ],
 "metadata": {
  "kernelspec": {
   "display_name": "Python 3",
   "language": "python",
   "name": "python3"
  },
  "language_info": {
   "codemirror_mode": {
    "name": "ipython",
    "version": 3
   },
   "file_extension": ".py",
   "mimetype": "text/x-python",
   "name": "python",
   "nbconvert_exporter": "python",
   "pygments_lexer": "ipython3",
   "version": "3.6.3"
  }
 },
 "nbformat": 4,
 "nbformat_minor": 2
}
